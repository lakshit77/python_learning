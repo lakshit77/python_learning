{
 "cells": [
  {
   "cell_type": "markdown",
   "id": "3ba6ee51",
   "metadata": {},
   "source": [
    "## Python Tuple"
   ]
  },
  {
   "cell_type": "markdown",
   "id": "50ce4915",
   "metadata": {},
   "source": [
    "<p>1. Tuple:- A tuple contains a group of elements which can be same or different types</p>\n",
    "<p>2. Tuple are immutable.</p>\n",
    "<p>3.It is similar to list but tuples are read-only which we can not modify it's element.</p>\n",
    "<p>4.Tuples are used to store tha data which should not be modified.</p>\n",
    "<p>5.It occupies less memory compare to list.</p>\n",
    "<p>6. Tuples are represeted using paranthese ().</p>\n"
   ]
  },
  {
   "cell_type": "code",
   "execution_count": 1,
   "id": "6be3e5e4",
   "metadata": {},
   "outputs": [
    {
     "name": "stdout",
     "output_type": "stream",
     "text": [
      "Type of a: <class 'tuple'>\n"
     ]
    }
   ],
   "source": [
    "# Example:- \n",
    "a = (1,2,3,-5,2.5,\"TechSunami\")\n",
    "print(f\"Type of a: {type(a)}\")"
   ]
  },
  {
   "cell_type": "markdown",
   "id": "827a80c0",
   "metadata": {},
   "source": [
    "## Creating Tuple"
   ]
  },
  {
   "cell_type": "markdown",
   "id": "9bd97282",
   "metadata": {},
   "source": [
    "<p>We can create tuple by writing elements seperated by commas inside paranthese.</p>"
   ]
  },
  {
   "cell_type": "code",
   "execution_count": 2,
   "id": "e101247b",
   "metadata": {},
   "outputs": [
    {
     "name": "stdout",
     "output_type": "stream",
     "text": [
      "Type of a<class 'int'>\n",
      "Type of b<class 'tuple'>\n"
     ]
    }
   ],
   "source": [
    "#Example\n",
    "a = (20) #with one elements\n",
    "b = (20,) #with one elements\n",
    "\n",
    "print(f'Type of a{type(a)}')\n",
    "print(f'Type of b{type(b)}')"
   ]
  },
  {
   "cell_type": "code",
   "execution_count": 3,
   "id": "a0da8cce",
   "metadata": {},
   "outputs": [
    {
     "name": "stdout",
     "output_type": "stream",
     "text": [
      "Type of b<class 'tuple'>\n"
     ]
    }
   ],
   "source": [
    "#Example \n",
    "b = (10,20,30,-51,2.5,\"TechSunami\") #with multiple elements\n",
    "print(f'Type of b{type(b)}')"
   ]
  },
  {
   "cell_type": "markdown",
   "id": "5209c7fa",
   "metadata": {},
   "source": [
    "## Index\n",
    "\n",
    "<p>An index represents the position number of an tuple's element. The index start from 0 on wards and written inside square braces.</p>"
   ]
  },
  {
   "cell_type": "code",
   "execution_count": 4,
   "id": "735c7768",
   "metadata": {},
   "outputs": [],
   "source": [
    "# Example\n",
    "b = (10,20,-50,21.3,\"TechSunami\")"
   ]
  },
  {
   "cell_type": "markdown",
   "id": "922b302e",
   "metadata": {},
   "source": [
    "\n",
    "<table>\n",
    "   <tbody>\n",
    "     <tr>\n",
    "       <td>b[0]</td>\n",
    "       <td>10</td>\n",
    "     </tr>\n",
    "     <tr>\n",
    "       <td>b[1]</td>\n",
    "       <td>20</td>\n",
    "     </tr>\n",
    "     <tr>\n",
    "       <td>b[2]</td>\n",
    "       <td>-50</td>\n",
    "     </tr>\n",
    "     <tr>\n",
    "       <td>b[3]</td>\n",
    "       <td>21.3</td>\n",
    "     </tr>\n",
    "     <tr>\n",
    "       <td>b[4]</td>\n",
    "       <td>TechSunami</td>\n",
    "     </tr>\n",
    "  </tbody>\n",
    "</table>"
   ]
  },
  {
   "cell_type": "markdown",
   "id": "dd4a69d8",
   "metadata": {},
   "source": [
    "## Accessing Tuple's Element"
   ]
  },
  {
   "cell_type": "code",
   "execution_count": 5,
   "id": "6aeecf57",
   "metadata": {},
   "outputs": [],
   "source": [
    "a = (10,20,-50,21.3, \"TechSunami\")"
   ]
  },
  {
   "cell_type": "markdown",
   "id": "b2b4aacc",
   "metadata": {},
   "source": [
    "<table>\n",
    "   <tbody>\n",
    "     <tr>\n",
    "       <td>10</td>\n",
    "       <td>20</td>\n",
    "       <td>-50</td>\n",
    "       <td>21.3</td>\n",
    "       <td>TechSunami</td>\n",
    "      </tr>\n",
    "      <tr>\n",
    "       <td>a[0]</td>\n",
    "       <td>a[1]</td>\n",
    "       <td>a[2]</td>\n",
    "       <td>a[3]</td>\n",
    "       <td>a[4]</td>\n",
    "      </tr>\n",
    "  </tbody>\n",
    "</table>"
   ]
  },
  {
   "cell_type": "markdown",
   "id": "3a253f68",
   "metadata": {},
   "source": [
    "## Accessing Tuple using While loop"
   ]
  },
  {
   "cell_type": "code",
   "execution_count": 7,
   "id": "5aa4f0a7",
   "metadata": {},
   "outputs": [
    {
     "name": "stdout",
     "output_type": "stream",
     "text": [
      "10\n",
      "20\n",
      "-50\n",
      "21.3\n",
      "TechSunami\n"
     ]
    }
   ],
   "source": [
    "# without index number\n",
    "\n",
    "a = (10,20,-50,21.3, \"TechSunami\")\n",
    "i = 0\n",
    "while i < len(a):\n",
    "    print(a[i])\n",
    "    i+= 1"
   ]
  },
  {
   "cell_type": "code",
   "execution_count": 8,
   "id": "ba781356",
   "metadata": {},
   "outputs": [
    {
     "name": "stdout",
     "output_type": "stream",
     "text": [
      "0 10\n",
      "1 20\n",
      "2 -50\n",
      "3 21.3\n",
      "4 TechSunami\n"
     ]
    }
   ],
   "source": [
    "# with index number\n",
    "\n",
    "a = (10,20,-50,21.3, \"TechSunami\")\n",
    "i = 0\n",
    "while i < len(a):\n",
    "    print(i,a[i])\n",
    "    i+= 1"
   ]
  },
  {
   "cell_type": "markdown",
   "id": "d49c95f0",
   "metadata": {},
   "source": [
    "## Slicing on Tuple"
   ]
  },
  {
   "cell_type": "markdown",
   "id": "0ef19b8f",
   "metadata": {},
   "source": [
    "<p>Slicing on Tuple can be used to retrieve a piece of the Tuple that contains a group of elements. Slicing is useful to retrieve a range of elements</p>\n",
    "<p>Syntax:- new_tuple = tuple_name[start:stop:stepsize]</p>"
   ]
  },
  {
   "cell_type": "code",
   "execution_count": 9,
   "id": "549b3dbf",
   "metadata": {},
   "outputs": [],
   "source": [
    "# Example:-\n",
    "\n",
    "a = (100,200,300,400,500,600)\n",
    "b = a[1:4]  # from 1st position to 4th position"
   ]
  },
  {
   "cell_type": "code",
   "execution_count": 10,
   "id": "093f4480",
   "metadata": {},
   "outputs": [],
   "source": [
    "b = a[0:]  # from 0th position to last position"
   ]
  },
  {
   "cell_type": "code",
   "execution_count": 11,
   "id": "82e7ec71",
   "metadata": {},
   "outputs": [],
   "source": [
    "b = a[0:4]  # from 0th position to 4th position"
   ]
  },
  {
   "cell_type": "code",
   "execution_count": 12,
   "id": "d5cfc098",
   "metadata": {},
   "outputs": [],
   "source": [
    "b = a[-4:] # last 4 elements"
   ]
  },
  {
   "cell_type": "code",
   "execution_count": 13,
   "id": "fb291c79",
   "metadata": {},
   "outputs": [],
   "source": [
    "b = a[0:7:2] # from 0th position to 6th position"
   ]
  },
  {
   "cell_type": "code",
   "execution_count": 14,
   "id": "5557ad75",
   "metadata": {},
   "outputs": [],
   "source": [
    "b = a[-5:-3] # last 5 element with [-5-(-3)] = 2 elements towards right"
   ]
  },
  {
   "cell_type": "markdown",
   "id": "27208321",
   "metadata": {},
   "source": [
    "## Tuple Concatenation\n",
    "<p>+ operator is used to do concatenation the Tuple.</p>"
   ]
  },
  {
   "cell_type": "code",
   "execution_count": 15,
   "id": "6eadc7c3",
   "metadata": {},
   "outputs": [
    {
     "name": "stdout",
     "output_type": "stream",
     "text": [
      "(1, 2, 3, 4, 10, 20, 30, 40)\n"
     ]
    }
   ],
   "source": [
    "# Example\n",
    "a = (1,2,3,4)\n",
    "b = (10,20,30,40)\n",
    "print(a+b)"
   ]
  },
  {
   "cell_type": "markdown",
   "id": "6db95a69",
   "metadata": {},
   "source": [
    "## Repetition of Tuple\n",
    "<p>* operator is used to do concatenation the Tuple.</p>"
   ]
  },
  {
   "cell_type": "code",
   "execution_count": 16,
   "id": "9fc714fc",
   "metadata": {},
   "outputs": [
    {
     "name": "stdout",
     "output_type": "stream",
     "text": [
      "(10, 20, 30, 40, 10, 20, 30, 40, 10, 20, 30, 40)\n"
     ]
    }
   ],
   "source": [
    "b = (10,20,30,40)\n",
    "result = b * 3\n",
    "print(result)"
   ]
  },
  {
   "cell_type": "markdown",
   "id": "bcd317c9",
   "metadata": {},
   "source": [
    "## Aliasing Tuple\n",
    "\n",
    "<p>Aliasing means giving another name to the existing object. It doesn't mean copying </p>"
   ]
  },
  {
   "cell_type": "code",
   "execution_count": 17,
   "id": "d4fb5c98",
   "metadata": {},
   "outputs": [],
   "source": [
    "a = (1,2,3,4)\n",
    "b = a"
   ]
  },
  {
   "cell_type": "markdown",
   "id": "e0f225db",
   "metadata": {},
   "source": [
    "<p>Modification in a will affect b and vice versa.</p>"
   ]
  },
  {
   "cell_type": "code",
   "execution_count": 19,
   "id": "be83f236",
   "metadata": {},
   "outputs": [],
   "source": [
    "# Example :-\n",
    "a = (1,2,3,4)\n",
    "b = a"
   ]
  },
  {
   "cell_type": "markdown",
   "id": "85797c4e",
   "metadata": {},
   "source": [
    "## Copying Tuple"
   ]
  },
  {
   "cell_type": "markdown",
   "id": "bf092e18",
   "metadata": {},
   "source": [
    "<p>We can copy elements of tuple into another tuple using slic.</p>"
   ]
  },
  {
   "cell_type": "code",
   "execution_count": 20,
   "id": "e689ca87",
   "metadata": {},
   "outputs": [
    {
     "name": "stdout",
     "output_type": "stream",
     "text": [
      "a:(1, 2, 3, 4, 5)\n",
      "b:(2, 3, 4)\n",
      "id of a:140080254173968\n",
      "id of b:140080228386112\n"
     ]
    }
   ],
   "source": [
    "a = (1,2,3,4,5)\n",
    "b = a\n",
    "b = a[1:4]\n",
    "print(f'a:{a}')\n",
    "print(f'b:{b}')\n",
    "\n",
    "print(f'id of a:{id(a)}')\n",
    "print(f'id of b:{id(b)}')"
   ]
  },
  {
   "cell_type": "markdown",
   "id": "a2a2bd6b",
   "metadata": {},
   "source": [
    "## Nested Tuple\n",
    "\n",
    "<p>A tuple within tuple is called as nested tuple or nesting of a tuple.</p>"
   ]
  },
  {
   "cell_type": "code",
   "execution_count": 21,
   "id": "becebc60",
   "metadata": {},
   "outputs": [],
   "source": [
    "# Example:- \n",
    "a = (10,20,30,(100,200))\n",
    "b = ((10,20,30),(100,200,300))"
   ]
  },
  {
   "cell_type": "code",
   "execution_count": 22,
   "id": "8d11760f",
   "metadata": {},
   "outputs": [
    {
     "name": "stdout",
     "output_type": "stream",
     "text": [
      "10\n",
      "20\n",
      "30\n",
      "100\n",
      "200\n"
     ]
    }
   ],
   "source": [
    "a = (10,20,30,(100,200))\n",
    "print(a[0])\n",
    "print(a[1])\n",
    "print(a[2])\n",
    "print(a[3][0])\n",
    "print(a[3][1])"
   ]
  },
  {
   "cell_type": "markdown",
   "id": "3843ad73",
   "metadata": {},
   "source": [
    "## Tuple () function \n",
    "\n",
    "<p>This is used to create a tuple. It return a immutable tuple of elements.</p>"
   ]
  },
  {
   "cell_type": "markdown",
   "id": "bd9f3319",
   "metadata": {},
   "source": [
    "<p>Syntax:- tuple()</p>\n",
    "\n",
    "tuple(iterable_object)"
   ]
  },
  {
   "cell_type": "code",
   "execution_count": 23,
   "id": "fa25d141",
   "metadata": {},
   "outputs": [
    {
     "data": {
      "text/plain": [
       "('T', 'e', 'c', 'h', 'S', 'u', 'n', 'a', 'm', 'i')"
      ]
     },
     "execution_count": 23,
     "metadata": {},
     "output_type": "execute_result"
    }
   ],
   "source": [
    "# Example:-\n",
    "tuple(\"TechSunami\")"
   ]
  },
  {
   "cell_type": "markdown",
   "id": "97379799",
   "metadata": {},
   "source": [
    "<p>We can use tuple and range function to create a tuple.</p>\n",
    "<p>Syntax:- tuple(range(start,stop,stepsize))</p>"
   ]
  },
  {
   "cell_type": "code",
   "execution_count": 24,
   "id": "8bfc7dfb",
   "metadata": {},
   "outputs": [
    {
     "data": {
      "text/plain": [
       "(0, 1, 2, 3, 4)"
      ]
     },
     "execution_count": 24,
     "metadata": {},
     "output_type": "execute_result"
    }
   ],
   "source": [
    "# Example:-\n",
    "tuple(range(0,5))"
   ]
  },
  {
   "cell_type": "code",
   "execution_count": 25,
   "id": "e0bc3d46",
   "metadata": {},
   "outputs": [
    {
     "data": {
      "text/plain": [
       "(0, 2, 4)"
      ]
     },
     "execution_count": 25,
     "metadata": {},
     "output_type": "execute_result"
    }
   ],
   "source": [
    "tuple(range(0,5,2))"
   ]
  },
  {
   "cell_type": "code",
   "execution_count": null,
   "id": "4ac70888",
   "metadata": {},
   "outputs": [],
   "source": []
  }
 ],
 "metadata": {
  "kernelspec": {
   "display_name": "Python 3 (ipykernel)",
   "language": "python",
   "name": "python3"
  },
  "language_info": {
   "codemirror_mode": {
    "name": "ipython",
    "version": 3
   },
   "file_extension": ".py",
   "mimetype": "text/x-python",
   "name": "python",
   "nbconvert_exporter": "python",
   "pygments_lexer": "ipython3",
   "version": "3.8.10"
  }
 },
 "nbformat": 4,
 "nbformat_minor": 5
}
