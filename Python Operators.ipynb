{
 "cells": [
  {
   "cell_type": "markdown",
   "metadata": {},
   "source": [
    "# Python Operators"
   ]
  },
  {
   "cell_type": "markdown",
   "metadata": {},
   "source": [
    "<p>An operators is a symbol that perfoms an operations</p>\n",
    "\n",
    "<p>Below is the list of operators in python</p>\n",
    "\n",
    "<ol>\n",
    "\t<li><h3>Arithmetic Operators</h3></li>\n",
    "    <li><h3>Relational Operators</h3></li>\n",
    "    <li><h3>Logical Operators</h3></li>\n",
    "    <li><h3>Assingment Operators</h3></li>\n",
    "    <li><h3>Bitwise Operators</h3></li>\n",
    "    <li><h3>Membership Operators</h3></li>\n",
    "    <li><h3>Identity Operators</h3></li>\n",
    "</ol>"
   ]
  },
  {
   "cell_type": "markdown",
   "metadata": {},
   "source": [
    "<h2>Arithmetic Operators</h2>\n",
    "<p>Arithmetic operators are used to perfom basic arithmetic operations like additions, subtraction, division etc.</p>\n",
    "\n",
    " <table style=\"margin-right:auto;margin-left:0px\">\n",
    "   <thead>\n",
    "  <tr>\n",
    "    <th>Operators</th>\n",
    "    <th>Meaning</th>\n",
    "    <th>Example</th>\n",
    "    <th>Result</th>\n",
    "  </tr>\n",
    "  </thead>\n",
    "    <tbody>\n",
    "  <tr>\n",
    "    <td>+</td>\n",
    "    <td>Addition</td>\n",
    "    <td>4+2</td>\n",
    "    <td>6</td>\n",
    "  </tr>\n",
    "   <tr>\n",
    "    <td>-</td>\n",
    "    <td>Subtraction</td>\n",
    "    <td>4-2</td>\n",
    "    <td>2</td>\n",
    "  </tr>\n",
    "   <tr>\n",
    "    <td>*</td>\n",
    "    <td>Multiplication</td>\n",
    "    <td>4*2</td>\n",
    "    <td>8</td>\n",
    "  </tr>\n",
    "   <tr>\n",
    "    <td>/</td>\n",
    "    <td>Division</td>\n",
    "    <td>4/2</td>\n",
    "    <td>2</td>\n",
    "  </tr>\n",
    "   <tr>\n",
    "    <td>%</td>\n",
    "    <td>Modulus operator to get remainder in integer division</td>\n",
    "    <td>5%2</td>\n",
    "    <td>1</td>\n",
    "  </tr>\n",
    "   <tr>\n",
    "    <td>**</td>\n",
    "    <td>Exponent</td>\n",
    "    <td>5**2=5<sup>2</sup></td>\n",
    "    <td>25</td>\n",
    "  </tr>\n",
    "   <tr>\n",
    "    <td>//</td>\n",
    "    <td>Integer Division / Floor Division</td>\n",
    "    <td>5//2</td>\n",
    "    <td>2</td>\n",
    "  </tr>\n",
    "   </tbody>\n",
    "</table>"
   ]
  },
  {
   "cell_type": "markdown",
   "metadata": {},
   "source": [
    "<h4>Addition</h4>"
   ]
  },
  {
   "cell_type": "code",
   "execution_count": 54,
   "metadata": {},
   "outputs": [
    {
     "name": "stdout",
     "output_type": "stream",
     "text": [
      "6\n"
     ]
    }
   ],
   "source": [
    "num1 = 4\n",
    "num2 = 2\n",
    "print(num1+num2)"
   ]
  },
  {
   "cell_type": "markdown",
   "metadata": {},
   "source": [
    "<h4>Subtraction</h4>"
   ]
  },
  {
   "cell_type": "code",
   "execution_count": 55,
   "metadata": {},
   "outputs": [
    {
     "name": "stdout",
     "output_type": "stream",
     "text": [
      "2\n"
     ]
    }
   ],
   "source": [
    "num1 = 4\n",
    "num2 = 2\n",
    "print(num1-num2)"
   ]
  },
  {
   "cell_type": "markdown",
   "metadata": {},
   "source": [
    "<h4>Multiplication<h4>"
   ]
  },
  {
   "cell_type": "code",
   "execution_count": 56,
   "metadata": {},
   "outputs": [
    {
     "name": "stdout",
     "output_type": "stream",
     "text": [
      "8\n"
     ]
    }
   ],
   "source": [
    "num1 = 4\n",
    "num2 = 2\n",
    "print(num1*num2)"
   ]
  },
  {
   "cell_type": "markdown",
   "metadata": {},
   "source": [
    "<h4>Division</h4>"
   ]
  },
  {
   "cell_type": "code",
   "execution_count": 57,
   "metadata": {},
   "outputs": [
    {
     "name": "stdout",
     "output_type": "stream",
     "text": [
      "2.0\n"
     ]
    }
   ],
   "source": [
    "num1 = 4\n",
    "num2 = 2\n",
    "print(num1/num2)"
   ]
  },
  {
   "cell_type": "markdown",
   "metadata": {},
   "source": [
    "<h4>Modulus</h4>"
   ]
  },
  {
   "cell_type": "code",
   "execution_count": 58,
   "metadata": {},
   "outputs": [
    {
     "name": "stdout",
     "output_type": "stream",
     "text": [
      "1\n"
     ]
    }
   ],
   "source": [
    "num1 = 5\n",
    "num2 = 2\n",
    "print(num1%num2)"
   ]
  },
  {
   "cell_type": "markdown",
   "metadata": {},
   "source": [
    "<h4>Exponent</h4>"
   ]
  },
  {
   "cell_type": "code",
   "execution_count": 59,
   "metadata": {},
   "outputs": [
    {
     "name": "stdout",
     "output_type": "stream",
     "text": [
      "25\n"
     ]
    }
   ],
   "source": [
    "num1 = 5\n",
    "num2 = 2\n",
    "print(num1**num2)"
   ]
  },
  {
   "cell_type": "markdown",
   "metadata": {},
   "source": [
    "<h4>Integer Division</h4>"
   ]
  },
  {
   "cell_type": "code",
   "execution_count": 60,
   "metadata": {},
   "outputs": [
    {
     "name": "stdout",
     "output_type": "stream",
     "text": [
      "2\n"
     ]
    }
   ],
   "source": [
    "num1 = 5\n",
    "num2 = 2\n",
    "print(num1//num2)"
   ]
  },
  {
   "cell_type": "markdown",
   "metadata": {},
   "source": [
    "<h3>Relational Operators</h3>\n",
    "<p>Relational Operators are used to compare the value of operands (expressions) to produce a logical value. A logical value is either <code>True</code> or <code>False</code></p>\n",
    "\n",
    " <table style=\"margin-right:auto;margin-left:0px\">\n",
    "   <thead>\n",
    "  <tr>\n",
    "    <th>Operators</th>\n",
    "    <th>Meaning</th>\n",
    "    <th>Example</th>\n",
    "    <th>Result</th>\n",
    "  </tr>\n",
    "  </thead>\n",
    "    <tbody>\n",
    "  <tr align=\"center\">\n",
    "    <td> < </td>\n",
    "    <td>Less than</td>\n",
    "    <td>5 < 2</td>\n",
    "    <td>False</td>\n",
    "  </tr>\n",
    "   <tr align=\"center\">\n",
    "    <td> > </td>\n",
    "    <td>Greater than</td>\n",
    "    <td>5 > 2</td>\n",
    "    <td>True</td>\n",
    "  </tr>\n",
    "   <tr>\n",
    "    <td> <= </td>\n",
    "    <td>Less than or equal to</td>\n",
    "    <td>5 <= 2</td>\n",
    "    <td>False</td>\n",
    "  </tr>\n",
    "   <tr>\n",
    "    <td> > </td>\n",
    "    <td>Greater than or eqaul to</td>\n",
    "    <td>5 >= 2</td>\n",
    "    <td>True</td>\n",
    "  </tr>\n",
    "   <tr>\n",
    "    <td> == </td>\n",
    "    <td>Equal to</td>\n",
    "    <td>5==2 </td>\n",
    "    <td>False</td>\n",
    "  </tr>\n",
    "   <tr>\n",
    "    <td> != </td>\n",
    "    <td>Not Equal to</td>\n",
    "    <td> 5!=2 </td>\n",
    "    <td>True</td>\n",
    "  </tr>\n",
    "   </tbody>\n",
    "</table>\n"
   ]
  },
  {
   "cell_type": "markdown",
   "metadata": {},
   "source": [
    "<h4>Less than</h4>"
   ]
  },
  {
   "cell_type": "code",
   "execution_count": 61,
   "metadata": {},
   "outputs": [
    {
     "name": "stdout",
     "output_type": "stream",
     "text": [
      "False\n"
     ]
    }
   ],
   "source": [
    "num1 = 5\n",
    "num2 = 2\n",
    "print(5 < 2)"
   ]
  },
  {
   "cell_type": "markdown",
   "metadata": {},
   "source": [
    "<h4>Greater than</h4>"
   ]
  },
  {
   "cell_type": "code",
   "execution_count": 62,
   "metadata": {},
   "outputs": [
    {
     "name": "stdout",
     "output_type": "stream",
     "text": [
      "True\n"
     ]
    }
   ],
   "source": [
    "num1 = 5\n",
    "num2 = 2\n",
    "print(5 > 2)"
   ]
  },
  {
   "cell_type": "markdown",
   "metadata": {},
   "source": [
    "<h4>Less than or equal to </h4>"
   ]
  },
  {
   "cell_type": "code",
   "execution_count": 1,
   "metadata": {},
   "outputs": [
    {
     "name": "stdout",
     "output_type": "stream",
     "text": [
      "False\n"
     ]
    }
   ],
   "source": [
    "num1 = 5\n",
    "num2 = 2\n",
    "print(5 <= 2)"
   ]
  },
  {
   "cell_type": "markdown",
   "metadata": {},
   "source": [
    "<h4>Greater than or equal to</h4>"
   ]
  },
  {
   "cell_type": "code",
   "execution_count": 64,
   "metadata": {},
   "outputs": [
    {
     "name": "stdout",
     "output_type": "stream",
     "text": [
      "True\n"
     ]
    }
   ],
   "source": [
    "num1 = 5\n",
    "num2 = 2\n",
    "print(5 >= 2)"
   ]
  },
  {
   "cell_type": "markdown",
   "metadata": {},
   "source": [
    "<h4>Equal to</h4>"
   ]
  },
  {
   "cell_type": "code",
   "execution_count": 65,
   "metadata": {},
   "outputs": [
    {
     "name": "stdout",
     "output_type": "stream",
     "text": [
      "False\n"
     ]
    }
   ],
   "source": [
    "num1 = 5\n",
    "num2 = 2\n",
    "print(5 == 2)"
   ]
  },
  {
   "cell_type": "markdown",
   "metadata": {},
   "source": [
    "<h4>Not equal to</h4>"
   ]
  },
  {
   "cell_type": "code",
   "execution_count": 66,
   "metadata": {},
   "outputs": [
    {
     "name": "stdout",
     "output_type": "stream",
     "text": [
      "True\n"
     ]
    }
   ],
   "source": [
    "num1 = 5\n",
    "num2 = 2\n",
    "print(5 != 2)"
   ]
  },
  {
   "cell_type": "markdown",
   "metadata": {},
   "source": [
    "<h3>Logical Operators</h3>\n",
    "<p>Logical operators are used to connect more relational operations to form a complex expression called logical expression. A value obtained by evaluating a logical expression is always logical i.e <code>True</code> or <code>False</code></p>\n",
    "\n",
    " <table style=\"margin-right:auto;margin-left:0px\">\n",
    "   <thead>\n",
    "  <tr>\n",
    "    <th>Operator</th>\n",
    "    <th>Meaning</th>\n",
    "    <th>Example</th>\n",
    "    <th>Result</th>\n",
    "  </tr>\n",
    "  </thead>\n",
    "    <tbody>\n",
    "  <tr>\n",
    "    <td>and</td>\n",
    "    <td>Logical and</td>\n",
    "    <td>(5 < 2)and( 5> 3)</td>\n",
    "    <td>False</td>\n",
    "  </tr>\n",
    "   <tr>\n",
    "    <td> or </td>\n",
    "    <td>Logical or</td>\n",
    "    <td>(5 < 2)or(5 >3)</td>\n",
    "    <td>True</td>\n",
    "  </tr>\n",
    "   <tr>\n",
    "    <td> not </td>\n",
    "    <td>Logical not</td>\n",
    "    <td>not (5<2)</td>\n",
    "    <td>True</td>\n",
    "  </tr>\n",
    "   </tbody>\n",
    "</table>"
   ]
  },
  {
   "cell_type": "markdown",
   "metadata": {},
   "source": [
    "<h4>and operator</h4>\n",
    "\n",
    " <table style=\"margin-right:auto;margin-left:0px\">\n",
    "   <thead>\n",
    "  <tr>\n",
    "    <th>Operand 1</th>\n",
    "    <th>Operand 2</th>\n",
    "    <th>Result</th>\n",
    "  </tr>\n",
    "  </thead>\n",
    "    <tbody>\n",
    "  <tr>\n",
    "    <td>True</td>\n",
    "    <td>True</td>\n",
    "    <td>True</td>\n",
    "  </tr>\n",
    "   <tr>\n",
    "    <td>True</td>\n",
    "    <td>False</td>\n",
    "    <td>False</td>\n",
    "  </tr>\n",
    "   <tr>\n",
    "    <td>False</td>\n",
    "    <td>True</td>\n",
    "    <td>False</td>\n",
    "  </tr>\n",
    "  <tr>\n",
    "    <td>False</td>\n",
    "    <td>False</td>\n",
    "    <td>False</td>\n",
    "  </tr>      \n",
    "  <tr>\n",
    "    <td>True</td>  \n",
    "    <td>Expression</td>\n",
    "    <td>Expression</td>\n",
    "  </tr>\n",
    "  <tr>\n",
    "    <td>False</td>  \n",
    "    <td>Expression</td>\n",
    "    <td>False</td>\n",
    "  </tr>\n",
    "    \n",
    "   </tbody>\n",
    "</table>"
   ]
  },
  {
   "cell_type": "markdown",
   "metadata": {},
   "source": [
    "<h4>Logical and</h4>"
   ]
  },
  {
   "cell_type": "code",
   "execution_count": 67,
   "metadata": {},
   "outputs": [
    {
     "name": "stdout",
     "output_type": "stream",
     "text": [
      "True\n",
      "False\n",
      "False\n",
      "False\n"
     ]
    }
   ],
   "source": [
    "num1 = 5\n",
    "num2 = 3\n",
    "num3 = 2\n",
    "print(num1>num2 and num2>num3)\n",
    "\n",
    "num1 = 5\n",
    "num2 = 3\n",
    "num3 = 2\n",
    "print(num1>num2 and num2<num3)\n",
    "\n",
    "num1 = 5\n",
    "num2 = 3\n",
    "num3 = 2\n",
    "print(num1<num2 and num2>num3)\n",
    "\n",
    "num1 = 5\n",
    "num2 = 3\n",
    "num3 = 2\n",
    "print(num1<num2 and num2<num3)"
   ]
  },
  {
   "cell_type": "markdown",
   "metadata": {},
   "source": [
    "<h4>or operator</h4>\n",
    "\n",
    " <table style=\"margin-right:auto;margin-left:0px\">\n",
    "   <thead>\n",
    "  <tr>\n",
    "    <th>Operand 1</th>\n",
    "    <th>Operand 2</th>\n",
    "    <th>Result</th>\n",
    "  </tr>\n",
    "  </thead>\n",
    "    <tbody>\n",
    "  <tr>\n",
    "    <td>True</td>\n",
    "    <td>True</td>\n",
    "    <td>True</td>\n",
    "  </tr>\n",
    "   <tr>\n",
    "    <td>True</td>\n",
    "    <td>False</td>\n",
    "    <td>True</td>\n",
    "  </tr>\n",
    "   <tr>\n",
    "    <td>False</td>\n",
    "    <td>True</td>\n",
    "    <td>True</td>\n",
    "  </tr>\n",
    "  <tr>\n",
    "    <td>False</td>\n",
    "    <td>False</td>\n",
    "    <td>False</td>\n",
    "  </tr>      \n",
    "  <tr>\n",
    "    <td>True</td>  \n",
    "    <td>Expression</td>\n",
    "    <td>True</td>\n",
    "  </tr>\n",
    "  <tr>\n",
    "    <td>False</td>  \n",
    "    <td>Expression</td>\n",
    "    <td>Expression</td>\n",
    "  </tr>\n",
    "    \n",
    "   </tbody>\n",
    "</table>"
   ]
  },
  {
   "cell_type": "code",
   "execution_count": 68,
   "metadata": {},
   "outputs": [
    {
     "name": "stdout",
     "output_type": "stream",
     "text": [
      "True\n",
      "True\n",
      "True\n",
      "False\n"
     ]
    }
   ],
   "source": [
    "num1 = 5\n",
    "num2 = 3\n",
    "num3 = 2\n",
    "print(num1>num2 or num2>num3)\n",
    "\n",
    "num1 = 5\n",
    "num2 = 3\n",
    "num3 = 2\n",
    "print(num1>num2 or num2<num3)\n",
    "\n",
    "num1 = 5\n",
    "num2 = 3\n",
    "num3 = 2\n",
    "print(num1<num2 or num2>num3)\n",
    "\n",
    "num1 = 5\n",
    "num2 = 3\n",
    "num3 = 2\n",
    "print(num1<num2 and num2<num3)"
   ]
  },
  {
   "cell_type": "markdown",
   "metadata": {},
   "source": [
    "<h4>not</h4>\n",
    "\n",
    " <table style=\"margin-right:auto;margin-left:0px\">\n",
    "   <thead>\n",
    "  <tr>\n",
    "    <th>Operand</th>\n",
    "    <th>Result</th>\n",
    "  </tr>\n",
    "  </thead>\n",
    "    <tbody>\n",
    "  <tr>\n",
    "    <td>True</td>\n",
    "    <td>False</td>\n",
    "  </tr>\n",
    "   <tr>\n",
    "    <td>False</td>\n",
    "    <td>True</td>\n",
    "  </tr>\n",
    "   </tbody>\n",
    "</table>"
   ]
  },
  {
   "cell_type": "code",
   "execution_count": 69,
   "metadata": {},
   "outputs": [
    {
     "name": "stdout",
     "output_type": "stream",
     "text": [
      "False\n",
      "True\n"
     ]
    }
   ],
   "source": [
    "num1 = 5\n",
    "num2 = 3\n",
    "print(not(num1>num2))\n",
    "\n",
    "num1 = 5\n",
    "num2 = 3\n",
    "print(not(num1<num2))"
   ]
  },
  {
   "cell_type": "markdown",
   "metadata": {},
   "source": [
    "<h3>Assingment Operators</h3>\n",
    "<p>Assingment operators are used to arithmetic operations while assigning a valueto a variable </p>\n",
    "\n",
    " <table style=\"margin-right:auto;margin-left:0px\">\n",
    "   <thead>\n",
    "  <tr>\n",
    "    <th>Operator</th>\n",
    "    <th>Example</th>  \n",
    "    <th>Equivalent Expression (m=15)</th>\n",
    "    <th>Result</th>\n",
    "  </tr>\n",
    "  </thead>\n",
    "    <tbody>\n",
    "  <tr>\n",
    "    <td>=</td>\n",
    "    <td>y=a+b</td>\n",
    "    <td>y = 10 + 20</td>\n",
    "    <td>30</td>\n",
    "  </tr>\n",
    "   <tr>\n",
    "    <td>+=</td>\n",
    "    <td>m+=10</td>\n",
    "    <td>m = m + 10</td>\n",
    "    <td>25</td>\n",
    "  </tr>\n",
    "   <tr>\n",
    "    <td>-=</td>\n",
    "    <td>m-=10</td>\n",
    "    <td>m = m - 10</td>\n",
    "    <td>5</td>\n",
    "  </tr>\n",
    "  <tr>\n",
    "    <td>*=</td>\n",
    "    <td>m*=10</td>\n",
    "    <td>m = m * 10</td>\n",
    "    <td>150</td>\n",
    "  </tr>\n",
    "  <tr>\n",
    "    <td>/=</td>\n",
    "    <td>m/=10</td>\n",
    "    <td>m = m / 10</td>\n",
    "    <td>1.5</td>\n",
    "  </tr>\n",
    "  <tr>\n",
    "    <td>%=</td>\n",
    "    <td>m%=10</td>\n",
    "    <td>m = m % 10</td>\n",
    "    <td>5</td>\n",
    "  </tr>\n",
    "  <tr>\n",
    "    <td>**=</td>\n",
    "    <td>m**=10</td>\n",
    "    <td>m = m**2 or m=m<sup>2</sup></td>\n",
    "    <td>225</td>\n",
    "  </tr>\n",
    "  <tr>\n",
    "    <td>//=</td>\n",
    "    <td>m//=10</td>\n",
    "    <td>m = m // 10</td>\n",
    "    <td>1</td>\n",
    "  </tr>\n",
    "   </tbody>\n",
    "</table>"
   ]
  },
  {
   "cell_type": "code",
   "execution_count": 70,
   "metadata": {},
   "outputs": [
    {
     "name": "stdout",
     "output_type": "stream",
     "text": [
      "25\n",
      "5\n",
      "150\n",
      "1.5\n",
      "5\n",
      "225\n",
      "1\n"
     ]
    }
   ],
   "source": [
    "num1 = 15\n",
    "num1 += 10\n",
    "print(num1)\n",
    "\n",
    "num1 = 15\n",
    "num1 -= 10\n",
    "print(num1)\n",
    "\n",
    "num1 = 15\n",
    "num1 *= 10\n",
    "print(num1)\n",
    "\n",
    "num1 = 15\n",
    "num1 /= 10\n",
    "print(num1)\n",
    "\n",
    "num1 = 15\n",
    "num1 %= 10\n",
    "print(num1)\n",
    "\n",
    "num1 = 15\n",
    "num1 **= 2\n",
    "print(num1)\n",
    "\n",
    "num1 = 15\n",
    "num1 //= 10\n",
    "print(num1)"
   ]
  },
  {
   "cell_type": "markdown",
   "metadata": {},
   "source": [
    "<h2>Bitwise Operators</h2>\n",
    "<p>Bitwise operators are used to perfom operations at binary digit level. These operators are not commonly used and are used only in special applications where optimized use of storage required.</p>\n",
    "\n",
    " <table style=\"margin-right:auto;margin-left:0px\">\n",
    "   <thead>\n",
    "  <tr>\n",
    "    <th>Operator</th>\n",
    "    <th>Meaning</th>\n",
    "  </tr>\n",
    "  </thead>\n",
    "    <tbody>\n",
    "  <tr>\n",
    "    <td>&</td>\n",
    "    <td>Bitwise AND</td>\n",
    "  </tr>\n",
    "   <tr>\n",
    "    <td>|</td>\n",
    "    <td>Bitwise OR</td>\n",
    "  </tr>\n",
    "   <tr>\n",
    "    <td>^</td>\n",
    "    <td>Bitwise XOR</td>\n",
    "  </tr>\n",
    "  <tr>\n",
    "    <td>~</td>\n",
    "    <td>Bitwise inversion (one's complement)</td>\n",
    "  </tr>\n",
    "   <tr>\n",
    "    <td> << </td>\n",
    "    <td>Shifts the bits to left / Bitwise left shift</td>\n",
    "  </tr>\n",
    "        \n",
    "  <tr>\n",
    "    <td> >>  </td>\n",
    "    <td>Shifts the bits to right / Bitwise right shift</td>\n",
    "        </tr>\n",
    "   </tbody>\n",
    "</table>"
   ]
  },
  {
   "cell_type": "markdown",
   "metadata": {},
   "source": [
    "<h4>Biwise AND & </h4>\n",
    "\n",
    " <table style=\"margin-right:auto;margin-left:0px\">\n",
    "   <thead>\n",
    "  <tr>\n",
    "    <th>Operand 1</th>\n",
    "    <th>Operand 2</th>\n",
    "    <th>Result (Operand 1 & Operand 2)</th>\n",
    "  </tr>\n",
    "  </thead>\n",
    "    <tbody>\n",
    "  <tr>\n",
    "    <td>True 1</td>\n",
    "    <td>True 1</td>\n",
    "    <td>True 1</td>\n",
    "  </tr>\n",
    "   <tr>\n",
    "    <td>True 1</td>\n",
    "    <td>False 0 </td>\n",
    "    <td>False 0</td>\n",
    "  </tr>\n",
    "   <tr>\n",
    "    <td>False 0</td>\n",
    "    <td>True 1</td>\n",
    "    <td>False 0</td>\n",
    "  </tr>\n",
    "  <tr>\n",
    "    <td>False 0</td>\n",
    "    <td>False 0 </td>\n",
    "    <td>False 0</td>\n",
    "  </tr>      \n",
    "   </tbody>\n",
    "</table>\n",
    "\n",
    "\n",
    "\n",
    "<h4>Biwise OR | </h4>\n",
    "\n",
    " <table style=\"margin-right:auto;margin-left:0px\">\n",
    "   <thead>\n",
    "  <tr>\n",
    "    <th>Operand 1</th>\n",
    "    <th>Operand 2</th>\n",
    "    <th>Result (Operand 1 | Operand 2)</th>\n",
    "  </tr>\n",
    "  </thead>\n",
    "    <tbody>\n",
    "  <tr>\n",
    "    <td>True 1</td>\n",
    "    <td>True 1</td>\n",
    "    <td>True 1</td>\n",
    "  </tr>\n",
    "   <tr>\n",
    "    <td>True 1</td>\n",
    "    <td>False 0 </td>\n",
    "    <td>True 1</td>\n",
    "  </tr>\n",
    "   <tr>\n",
    "    <td>False 0</td>\n",
    "    <td>True 1</td>\n",
    "    <td>True 1</td>\n",
    "  </tr>\n",
    "  <tr>\n",
    "    <td>False 0</td>\n",
    "    <td>False 0 </td>\n",
    "    <td>False 0</td>\n",
    "  </tr>      \n",
    "   </tbody>\n",
    "</table>\n",
    "\n",
    "\n",
    "<h4>Biwise XOR ^ </h4>\n",
    "\n",
    " <table style=\"margin-right:auto;margin-left:0px\">\n",
    "   <thead>\n",
    "  <tr>\n",
    "    <th>Operand 1</th>\n",
    "    <th>Operand 2</th>\n",
    "    <th>Result (Operand 1 ^ Operand 2)</th>\n",
    "  </tr>\n",
    "  </thead>\n",
    "    <tbody>\n",
    "  <tr>\n",
    "    <td>True 1</td>\n",
    "    <td>True 1</td>\n",
    "    <td>False 0</td>\n",
    "  </tr>\n",
    "   <tr>\n",
    "    <td>True 1</td>\n",
    "    <td>False 0 </td>\n",
    "    <td>True 1</td>\n",
    "  </tr>\n",
    "   <tr>\n",
    "    <td>False 0</td>\n",
    "    <td>True 1</td>\n",
    "    <td>True 1</td>\n",
    "  </tr>\n",
    "  <tr>\n",
    "    <td>False 0</td>\n",
    "    <td>False 0 </td>\n",
    "    <td>False 0</td>\n",
    "  </tr>      \n",
    "   </tbody>\n",
    "</table>\n",
    "\n",
    "<h4>Bitwse NOT ~</h4>\n",
    "\n",
    "<table style=\"margin-right:auto;margin-left:0px\">\n",
    "   <thead>\n",
    "  <tr>\n",
    "    <th>Operand</th>\n",
    "    <th>Result</th>\n",
    "  </tr>\n",
    "  </thead>\n",
    "    <tbody>\n",
    "  <tr>\n",
    "    <td>True 1</td>\n",
    "    <td>False 0</td>\n",
    "  </tr>\n",
    "   <tr>\n",
    "    <td>False 0</td>\n",
    "    <td>True 1</td>\n",
    "  </tr>\n",
    "   </tbody>\n",
    "</table>\n",
    "\n",
    "\n",
    "<h4>Bitwise Left Shift << </h4>\n",
    "a = 10\n",
    "\n",
    "<p>00001010</p>\n",
    "<p>After Left shift</p>\n",
    "\n",
    "<p>00101000</p>\n",
    "\n",
    "\n",
    "<h4>Bitwise Right Shift >> </h4>\n",
    "a = 10\n",
    "\n",
    "<p>00001010</p>\n",
    "<p>After Right shift</p>\n",
    "\n",
    "<p>00000010</p>"
   ]
  },
  {
   "cell_type": "code",
   "execution_count": 71,
   "metadata": {},
   "outputs": [
    {
     "name": "stdout",
     "output_type": "stream",
     "text": [
      "~a = -11\n",
      "a&b = 10\n",
      "a|b = 15\n",
      "a^b = 5\n",
      "a<<b = 40\n",
      "a>>b = 2\n"
     ]
    }
   ],
   "source": [
    "a = 10\n",
    "b = 15\n",
    "\n",
    "print('~a =',~a)\n",
    "print('a&b =',a&b)\n",
    "print('a|b =',a|b)\n",
    "print('a^b =',a^b)\n",
    "print('a<<b =',a<<2)\n",
    "print('a>>b =',a>>2)"
   ]
  },
  {
   "cell_type": "markdown",
   "metadata": {},
   "source": [
    "<h2>Membership Operators</h2>\n",
    "<p>The membership operators are useful to test for membership in a sequence such as string,list,tuples and dictionaries</p>\n",
    "\n",
    "<p>There are two type of Membership operator</p>\n",
    "\n",
    "<ol>\n",
    "\t<li><h4>in</h4></li>\n",
    "    <li><h4>not in</h4></li>\n",
    "</ol>\n",
    "\n",
    "<h4>in<h4>\n",
    "    \n",
    "\n",
    "<p>This operators is used to find an element in the specified sequece. it returns <code>True</code> if elements found in the specified sequence else it return <code>False</code> </p>"
   ]
  },
  {
   "cell_type": "code",
   "execution_count": 72,
   "metadata": {},
   "outputs": [
    {
     "data": {
      "text/plain": [
       "True"
      ]
     },
     "execution_count": 72,
     "metadata": {},
     "output_type": "execute_result"
    }
   ],
   "source": [
    "name = \"Welcome to TechSunami\"\n",
    "\"to\" in name"
   ]
  },
  {
   "cell_type": "code",
   "execution_count": 73,
   "metadata": {},
   "outputs": [
    {
     "data": {
      "text/plain": [
       "False"
      ]
     },
     "execution_count": 73,
     "metadata": {},
     "output_type": "execute_result"
    }
   ],
   "source": [
    "name = \"Welcome to TechSunami\"\n",
    "\"if\" in name"
   ]
  },
  {
   "cell_type": "markdown",
   "metadata": {},
   "source": [
    "<h4>not in<h4>\n",
    "    \n",
    "\n",
    "<p>This operators works in reverse manner for in operator. it returns <code>True</code> if elements not found in the specified sequence and if element is found then it return <code>False</code> </p>"
   ]
  },
  {
   "cell_type": "code",
   "execution_count": 74,
   "metadata": {},
   "outputs": [
    {
     "data": {
      "text/plain": [
       "True"
      ]
     },
     "execution_count": 74,
     "metadata": {},
     "output_type": "execute_result"
    }
   ],
   "source": [
    "name = \"Welcome to TechSunami\"\n",
    "\"if\" not in name"
   ]
  },
  {
   "cell_type": "code",
   "execution_count": 75,
   "metadata": {},
   "outputs": [
    {
     "data": {
      "text/plain": [
       "False"
      ]
     },
     "execution_count": 75,
     "metadata": {},
     "output_type": "execute_result"
    }
   ],
   "source": [
    "name = \"Welcome to TechSunami\"\n",
    "\"to\" not in name"
   ]
  },
  {
   "cell_type": "markdown",
   "metadata": {},
   "source": [
    "<h2>Identity Operators</h2>\n",
    "<p>The identity operators compare the memory locations of two objects. Hence, it is possible to know whether two objects are same or not</p>\n",
    "\n",
    "<p>There are two type of identity operator</p>\n",
    "\n",
    "<ol>\n",
    "\t<li><h4>is</h4></li>\n",
    "    <li><h4>is not</h4></li>\n",
    "</ol>\n",
    "\n",
    "<h4>is<h4>\n",
    "    \n",
    "\n",
    "<p>This operators is used to compare whether two objects are same or not. it returns <code>True</code> if memory location of two objects are same else it return <code>False</code> </p>"
   ]
  },
  {
   "cell_type": "code",
   "execution_count": 76,
   "metadata": {},
   "outputs": [
    {
     "name": "stdout",
     "output_type": "stream",
     "text": [
      "True\n"
     ]
    }
   ],
   "source": [
    "num1 = 10\n",
    "num2 = 10\n",
    "print(num1 is num2)"
   ]
  },
  {
   "cell_type": "code",
   "execution_count": 77,
   "metadata": {},
   "outputs": [
    {
     "name": "stdout",
     "output_type": "stream",
     "text": [
      "False\n"
     ]
    }
   ],
   "source": [
    "num1 = 10\n",
    "num2 = 20\n",
    "print(num1 is num2)"
   ]
  },
  {
   "cell_type": "markdown",
   "metadata": {},
   "source": [
    "<h4>is not<h4>\n",
    "    \n",
    "\n",
    "<p>This operators works in reverse manner for <strong>is</strong> operator. it returns <code>True</code> if memory location of two objects are not same if they are same it return <code>False</code> </p>"
   ]
  },
  {
   "cell_type": "code",
   "execution_count": 78,
   "metadata": {},
   "outputs": [
    {
     "name": "stdout",
     "output_type": "stream",
     "text": [
      "False\n"
     ]
    }
   ],
   "source": [
    "num1 = 10\n",
    "num2 = 10\n",
    "print(num1 is not num2)"
   ]
  },
  {
   "cell_type": "code",
   "execution_count": 79,
   "metadata": {},
   "outputs": [
    {
     "name": "stdout",
     "output_type": "stream",
     "text": [
      "True\n"
     ]
    }
   ],
   "source": [
    "num1 = 10\n",
    "num2 = 20\n",
    "print(num1 is not num2)"
   ]
  },
  {
   "cell_type": "code",
   "execution_count": null,
   "metadata": {},
   "outputs": [],
   "source": []
  }
 ],
 "metadata": {
  "kernelspec": {
   "display_name": "Python 3",
   "language": "python",
   "name": "python3"
  },
  "language_info": {
   "codemirror_mode": {
    "name": "ipython",
    "version": 3
   },
   "file_extension": ".py",
   "mimetype": "text/x-python",
   "name": "python",
   "nbconvert_exporter": "python",
   "pygments_lexer": "ipython3",
   "version": "3.8.10"
  }
 },
 "nbformat": 4,
 "nbformat_minor": 4
}
