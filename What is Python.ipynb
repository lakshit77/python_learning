{
 "cells": [
  {
   "cell_type": "markdown",
   "id": "df3cf7f5",
   "metadata": {},
   "source": [
    "# What is Python"
   ]
  },
  {
   "cell_type": "markdown",
   "id": "ccaf0b2b",
   "metadata": {},
   "source": [
    "<p>1. Python is a clear and powerful object-oriented programming language, comparable to Perl,Ruby or Java</p>\n",
    "\n",
    "<p>2. Python is a programming language that combines features of C and Java</p>\n",
    "\n",
    "Official Documentation:- <a href=\"https://www.python.org/\">python.org</a>"
   ]
  },
  {
   "cell_type": "markdown",
   "id": "0c005090",
   "metadata": {},
   "source": [
    "# History of Python"
   ]
  },
  {
   "cell_type": "markdown",
   "id": "605f7e3d",
   "metadata": {},
   "source": [
    "<p>1.Python was developed by <em>Guido Van Rossum</em> in the year <em>1990</em> at Stichting Mathematisch Centrum in the Netherlands as a successor of a language called ABC</p>\n",
    "\n",
    "<p>2. Name \"Python\" picked from TV Show Monty Python's Flying Circus.</p>"
   ]
  },
  {
   "cell_type": "markdown",
   "id": "bbb1aacf",
   "metadata": {},
   "source": [
    "# Version"
   ]
  },
  {
   "cell_type": "markdown",
   "id": "47d5a36f",
   "metadata": {},
   "source": [
    "<ul>\n",
    "  <li>Python 0.9 - Februray,1991</li>\n",
    "  <li>Python 1.0 - January,1994</li>\n",
    "  <li>Python 2.0 - October,2000</li>\n",
    "  <li>Python 3.0 - December,2008</li>\n",
    "  <li>Python 3.1 - June,2009</li>\n",
    "  <li>Python 3.2 - Februray,2011</li>\n",
    "  <li>Python 3.3 - September,2012</li>\n",
    "  <li>Python 3.4 - March,2014</li>\n",
    "  <li>Python 3.5 - September,2015</li>\n",
    "  <li>Python 3.6 - December,2016</li>\n",
    "  <li>Python 3.7 - June,2018</li>\n",
    "  <li>Python 3.8 - October,2019</li>\n",
    "  <li>Python 3.9 - October,2020</li>\n",
    "  <li>Python 3.10 - October,2021</li>\n",
    "  <li>Python 3.11 - October,2022</li>\n",
    "</ul>"
   ]
  },
  {
   "cell_type": "markdown",
   "id": "66307596",
   "metadata": {},
   "source": [
    "# Features"
   ]
  },
  {
   "cell_type": "markdown",
   "id": "45ab2852",
   "metadata": {},
   "source": [
    "<ul>\n",
    "  <li>Easy to Learn</li>\n",
    "  <li>High Level Language</li>\n",
    "  <li>Interpreted Language</li>\n",
    "  <li>Platform Independent</li>\n",
    "  <li>Prodcedure and Object Oriented</li>\n",
    "  <li>Huge Library</li>\n",
    "  <li>Scable</li>\n",
    "</ul>"
   ]
  },
  {
   "cell_type": "markdown",
   "id": "25a97a16",
   "metadata": {},
   "source": [
    "# Application for Python"
   ]
  },
  {
   "cell_type": "markdown",
   "id": "919e03b6",
   "metadata": {},
   "source": [
    "<ul>\n",
    "  <li>Web Application - Django, Pyramid, Flask</li>\n",
    "  <li>Desktop GUI Application - Tkinter</li>\n",
    "  <li>Console Based Application</li>\n",
    "  <li>Scientific and Numeric</li>\n",
    "  <li>Data Science</li>\n",
    "  <li>Machine Learning - scikit-learn and TensorFlow</li>\n",
    "  <li>Data Analysis - Matplotlib, Seaborn</li>\n",
    "</ul>"
   ]
  },
  {
   "cell_type": "markdown",
   "id": "2512d603",
   "metadata": {},
   "source": []
  }
 ],
 "metadata": {
  "kernelspec": {
   "display_name": "Python 3 (ipykernel)",
   "language": "python",
   "name": "python3"
  },
  "language_info": {
   "codemirror_mode": {
    "name": "ipython",
    "version": 3
   },
   "file_extension": ".py",
   "mimetype": "text/x-python",
   "name": "python",
   "nbconvert_exporter": "python",
   "pygments_lexer": "ipython3",
   "version": "3.8.10"
  }
 },
 "nbformat": 4,
 "nbformat_minor": 5
}
