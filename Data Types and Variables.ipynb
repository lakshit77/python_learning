{
 "cells": [
  {
   "cell_type": "markdown",
   "id": "22a448d8",
   "metadata": {},
   "source": [
    "## What are Variables in Python ?\n",
    "Variable are like box which hold the value within itself, so that wherever we want to use that value we can call the variable."
   ]
  },
  {
   "cell_type": "code",
   "execution_count": 4,
   "id": "fcdec857",
   "metadata": {},
   "outputs": [
    {
     "name": "stdout",
     "output_type": "stream",
     "text": [
      "\n",
      "Here is a list of the Python keywords.  Enter any keyword to get more help.\n",
      "\n",
      "False               break               for                 not\n",
      "None                class               from                or\n",
      "True                continue            global              pass\n",
      "__peg_parser__      def                 if                  raise\n",
      "and                 del                 import              return\n",
      "as                  elif                in                  try\n",
      "assert              else                is                  while\n",
      "async               except              lambda              with\n",
      "await               finally             nonlocal            yield\n",
      "\n"
     ]
    }
   ],
   "source": [
    "help(\"keywords\")"
   ]
  },
  {
   "cell_type": "code",
   "execution_count": 2,
   "id": "aaff9b97",
   "metadata": {},
   "outputs": [
    {
     "name": "stdout",
     "output_type": "stream",
     "text": [
      "3.9.7\n"
     ]
    }
   ],
   "source": [
    "from platform import python_version\n",
    "\n",
    "print(python_version())"
   ]
  },
  {
   "cell_type": "markdown",
   "id": "7d5bada6",
   "metadata": {},
   "source": [
    "<img src=\"Techsunami.gif\" width=\"200\" align=\"left\">"
   ]
  },
  {
   "cell_type": "code",
   "execution_count": 26,
   "id": "b1e32f25",
   "metadata": {},
   "outputs": [],
   "source": [
    "x = \"techsunami\""
   ]
  },
  {
   "cell_type": "code",
   "execution_count": 27,
   "id": "d14e85da",
   "metadata": {},
   "outputs": [
    {
     "name": "stdout",
     "output_type": "stream",
     "text": [
      "techsunami\n"
     ]
    }
   ],
   "source": [
    "print(x)"
   ]
  },
  {
   "cell_type": "markdown",
   "id": "052c8f4c",
   "metadata": {},
   "source": [
    "### Rules for creating variables in Python\n",
    "<ul>\n",
    "    <li>A variable name must start with a letter or the underscore ( _ ) character.</li>\n",
    "    <li>A variable name cannot start with a number.</li> \n",
    "    <li>A variable name can only contain alpha-numeric characters and underscores (A-z, 0-9, and _ ).</li>\n",
    "    <li>Variable names are case-sensitive (name, Name and NAME are three different variables).</li>\n",
    "    <li>\n",
    "The reserved words(keywords) cannot be used naming the variable.\n",
    "<pre>\n",
    "                    <b>Below is a list of the Python Researved keywords</b>\n",
    "    False               break               for                 not\n",
    "    None                class               from                or\n",
    "    True                continue            global              pass\n",
    "    __peg_parser__      def                 if                  raise\n",
    "    and                 del                 import              return\n",
    "    as                  elif                in                  try\n",
    "    assert              else                is                  while\n",
    "    async               except              lambda              with\n",
    "    await               finally             nonlocal            yield\n",
    "</pre>\n",
    "    </li>    \n",
    "</ul>\n"
   ]
  },
  {
   "cell_type": "code",
   "execution_count": 19,
   "id": "cfa45a2a",
   "metadata": {},
   "outputs": [
    {
     "ename": "SyntaxError",
     "evalue": "invalid syntax (1414066321.py, line 1)",
     "output_type": "error",
     "traceback": [
      "\u001b[0;36m  File \u001b[0;32m\"/var/folders/qj/fnsm3ljj1sv7zz8_1w0vg7p80000gn/T/ipykernel_1134/1414066321.py\"\u001b[0;36m, line \u001b[0;32m1\u001b[0m\n\u001b[0;31m    and = \"techlaunde\"\u001b[0m\n\u001b[0m    ^\u001b[0m\n\u001b[0;31mSyntaxError\u001b[0m\u001b[0;31m:\u001b[0m invalid syntax\n"
     ]
    }
   ],
   "source": [
    "and = \"techlaunde\""
   ]
  },
  {
   "cell_type": "code",
   "execution_count": 42,
   "id": "0043a2eb",
   "metadata": {},
   "outputs": [
    {
     "name": "stdout",
     "output_type": "stream",
     "text": [
      "Before declare:  100\n",
      "After re-declare: 120.3\n"
     ]
    }
   ],
   "source": [
    "# declaring the variable\n",
    "number = 100\n",
    "# display\n",
    "print(\"Before declare: \", number)\n",
    " \n",
    "# re-declare the variable\n",
    "number = 120.3\n",
    "print(\"After re-declare:\", number)"
   ]
  },
  {
   "cell_type": "markdown",
   "id": "c46472fc",
   "metadata": {},
   "source": [
    "## Data Type in Python"
   ]
  },
  {
   "cell_type": "markdown",
   "id": "93813477",
   "metadata": {},
   "source": [
    "<p>Datatype represents the type of data that is stored in a variable or memory. There are mainly two types of data types</p>\n",
    "\n",
    "<ul>\n",
    "<li>Built-in Data type</li>\n",
    "<li>User Defined Data types</li>\n",
    "</ul>\n",
    "\n",
    "<p>Built-in datatypes are provided by python language. Following are the built-in data types</p>\n",
    "\n",
    "<ol><li>None Type</li><li>Numeric Types<ul><li>Int</li><li>Float</li><li>Complex</li><li>Bool</li></ul></li><li>Sequence<ul><li>String </li><li>List</li><li>Tuple</li><li>Range</li></ul></li><li>Sets</li><li>Dictionary</li></ol>\n",
    "\n",
    "<p>User Defined data types are defined by the user. Following are the user-defined data types</p>\n",
    "\n",
    "<ol><li>Arrays</li><li>Class</li><li>Module</li></ol>\n"
   ]
  },
  {
   "cell_type": "markdown",
   "id": "e16611e2",
   "metadata": {},
   "source": [
    "<h2>Built-in Data Types</h2>\n",
    "\n",
    "<h3>None Type</h3>\n",
    "\n",
    "<p>Assigned <code>None</code> value into a variable</p>"
   ]
  },
  {
   "cell_type": "code",
   "execution_count": 11,
   "id": "6663282e",
   "metadata": {
    "scrolled": true
   },
   "outputs": [
    {
     "name": "stdout",
     "output_type": "stream",
     "text": [
      "Type of variable -- <class 'NoneType'>\n"
     ]
    }
   ],
   "source": [
    "x = None\n",
    "print(f\"Type of variable -- {type(x)}\")"
   ]
  },
  {
   "cell_type": "markdown",
   "id": "58f81a68",
   "metadata": {},
   "source": [
    "#### Numeric Type\n",
    "\n",
    "<p>The numeric data type is stored number into a variable. There are four types of numeric data type available in python. <code>Int</code>, <code>Float</code>, <code>Complex</code>, <code>Bool</code></p>\n",
    "\n",
    "\n",
    "<p><code>Int</code>:- The int data type represents a number without any decimal point or fraction. In python, it is possible to store large numbers as there is no limit for the size of an int data type </p>\n",
    "\n",
    "<p><code>Float</code>:- float data type represent floating point number. A floating point number is a number that contains a decimal point.</p>\n",
    "\n",
    "<p><code>Complex</code>:- A complex number is a number that is written in the form of <code>a + bj</code>. where <code>a</code> is a real part of the number and <code>b</code> is the imaginary part of the number and <code>j</code> represents the square root value of <code>-1</code>.</p>\n",
    "\n",
    "\n",
    "<p><code>Bool</code>:- The bool data type represents the boolean value <code>True</code> or <code>False</code>. Python internally represents True as 1 and False as 0.</p>\n"
   ]
  },
  {
   "cell_type": "code",
   "execution_count": 12,
   "id": "3397ce45",
   "metadata": {},
   "outputs": [
    {
     "name": "stdout",
     "output_type": "stream",
     "text": [
      "Variable Name -- 56542343\n",
      "Type of variable -- <class 'int'>\n"
     ]
    }
   ],
   "source": [
    "large_number = 56542343  #int\n",
    "print(f\"Variable Name -- {large_number}\")\n",
    "print(f\"Type of variable -- {type(large_number)}\")"
   ]
  },
  {
   "cell_type": "code",
   "execution_count": 14,
   "id": "a6e84474",
   "metadata": {},
   "outputs": [
    {
     "name": "stdout",
     "output_type": "stream",
     "text": [
      "Variable Name -- 4.32\n",
      "Type of variable -- <class 'float'>\n"
     ]
    }
   ],
   "source": [
    "run_rate = 4.32\n",
    "print(f\"Variable Name -- {run_rate}\")\n",
    "print(f\"Type of variable -- {type(run_rate)}\")\n"
   ]
  },
  {
   "cell_type": "code",
   "execution_count": 16,
   "id": "2c94f879",
   "metadata": {},
   "outputs": [
    {
     "name": "stdout",
     "output_type": "stream",
     "text": [
      "Variable Name -- (10+12j)\n",
      "Type of variable -- <class 'complex'>\n"
     ]
    }
   ],
   "source": [
    "comp = 10 + 12j\n",
    "print(f\"Variable Name -- {comp}\")\n",
    "print(f\"Type of variable -- {type(comp)}\")"
   ]
  },
  {
   "cell_type": "code",
   "execution_count": 17,
   "id": "8f0a12da",
   "metadata": {},
   "outputs": [
    {
     "name": "stdout",
     "output_type": "stream",
     "text": [
      "Variable Name -- True\n",
      "Type of variable -- <class 'bool'>\n"
     ]
    }
   ],
   "source": [
    "is_user = True\n",
    "print(f\"Variable Name -- {is_user}\")\n",
    "print(f\"Type of variable -- {type(is_user)}\")"
   ]
  },
  {
   "cell_type": "markdown",
   "id": "3616b798",
   "metadata": {},
   "source": [
    "#### Sequence Types\n",
    "\n",
    "<p><code>String</code>:- String represents a group of characters. Strings are enclosed in double quotes or single quotes. we use the <code>type()</code> function to check the type of <code>string</code>.</p>\n",
    "\n",
    "<p><code>List</code>:- A list represents a group of elements. A list can store different types of elements that can be modified. The list is dynamic which means the size is not fixed. The list is represented using a square bracket <code>[]</code>.</p>\n",
    "\n",
    "<p><code>Tuple</code>:- A tuple contains a group of elements that can be of different types. It is similar to List but Tuples are read-only. Tuples are represented using parentheses <code>()</code>.</p>\n",
    "\n",
    "<p><code>Range</code>:- Range represents a sequence of numbers. The numbers in the range are not modifiable.</p>\n"
   ]
  },
  {
   "cell_type": "code",
   "execution_count": 18,
   "id": "36b25b48",
   "metadata": {},
   "outputs": [
    {
     "name": "stdout",
     "output_type": "stream",
     "text": [
      "Variable Name -- techsunami\n",
      "Type of variable -- <class 'str'>\n"
     ]
    }
   ],
   "source": [
    "web_name = \"techsunami\" #string\n",
    "print(f\"Variable Name -- {web_name}\")\n",
    "print(f\"Type of variable -- {type(web_name)}\")"
   ]
  },
  {
   "cell_type": "code",
   "execution_count": 20,
   "id": "39f29fb9",
   "metadata": {},
   "outputs": [
    {
     "name": "stdout",
     "output_type": "stream",
     "text": [
      "Variable Name -- [10, 21.3, -50, 'techsunami']\n",
      "Type of variable -- <class 'list'>\n"
     ]
    }
   ],
   "source": [
    "multiple_data = [10,21.3,-50,\"techsunami\"] #list\n",
    "print(f\"Variable Name -- {multiple_data}\")\n",
    "print(f\"Type of variable -- {type(multiple_data)}\")"
   ]
  },
  {
   "cell_type": "code",
   "execution_count": 21,
   "id": "cf851ea3",
   "metadata": {},
   "outputs": [
    {
     "name": "stdout",
     "output_type": "stream",
     "text": [
      "Variable Name -- (10, 21.3, -50, 'techsunami')\n",
      "Type of variable -- <class 'tuple'>\n"
     ]
    }
   ],
   "source": [
    "multiple_data = (10,21.3,-50,\"techsunami\") #tuple\n",
    "print(f\"Variable Name -- {multiple_data}\")\n",
    "print(f\"Type of variable -- {type(multiple_data)}\")\n"
   ]
  },
  {
   "cell_type": "code",
   "execution_count": 22,
   "id": "64c594bd",
   "metadata": {},
   "outputs": [
    {
     "name": "stdout",
     "output_type": "stream",
     "text": [
      "Variable Name -- range(0, 5)\n",
      "Type of variable -- <class 'range'>\n"
     ]
    }
   ],
   "source": [
    "rg = range(5) #range\n",
    "print(f\"Variable Name -- {rg}\")\n",
    "print(f\"Type of variable -- {type(rg)}\")\n"
   ]
  },
  {
   "cell_type": "markdown",
   "id": "adfb0c82",
   "metadata": {},
   "source": [
    "#### Mapping Type\n",
    "\n",
    "<p>A map represents a group of elements in the form of key-value pairs.</p>"
   ]
  },
  {
   "cell_type": "code",
   "execution_count": 25,
   "id": "ab44d94a",
   "metadata": {},
   "outputs": [
    {
     "name": "stdout",
     "output_type": "stream",
     "text": [
      "Variable Name -- {101: 'Raj', 102: 'Rahul', 103: 'Sonam'}\n",
      "Type of variable -- <class 'dict'>\n"
     ]
    }
   ],
   "source": [
    "x = {101:\"Raj\",102:\"Rahul\",103:\"Sonam\"}  #dictionary\n",
    "print(f\"Variable Name -- {x}\")\n",
    "print(f\"Type of variable -- {type(x)}\")"
   ]
  },
  {
   "cell_type": "markdown",
   "id": "89698b76",
   "metadata": {},
   "source": [
    "#### Set Types\n",
    "\n",
    "<p>A set is an unordered collection of elements much like a set in mathematics. A set does not accept duplicate elements. The set is unordered so we can not access elements using an index. Sets represented using curly brackets {}.</p>"
   ]
  },
  {
   "cell_type": "code",
   "execution_count": 24,
   "id": "1cec1cdf",
   "metadata": {},
   "outputs": [
    {
     "name": "stdout",
     "output_type": "stream",
     "text": [
      "Variable Name -- {'hello', 10, 'techsunami', 30}\n",
      "Type of variable -- <class 'set'>\n"
     ]
    }
   ],
   "source": [
    "x = {10,30,\"techsunami\",\"hello\"}  #set\n",
    "print(f\"Variable Name -- {x}\")\n",
    "print(f\"Type of variable -- {type(x)}\")"
   ]
  },
  {
   "cell_type": "markdown",
   "id": "fca1397b",
   "metadata": {},
   "source": [
    "<h2>User Defined Data Types</h2>\n",
    "\n",
    "<h3>Arrays</h3>\n",
    "\n",
    "<p>An array is an object that provides a mechanism for storing several data items with only one identifier, Array is beneficial if you need to store a group of elements of the same data type.</p>\n",
    "\n",
    "<ul><li>Arrays can store only one type of data</li><li>In Python, the size of the array is not fixed. The array can increase or decrease its size dynamically.</li><li>Array and List are not the same.</li><li>The array uses less memory than a list.</li></ul>\n",
    "\n",
    "<p>There are two types of arrays in python</p>\n",
    "\n",
    "<ul><li>One Dimensional Array - Single Row Multiple Columns</li><li>Multi-Dimensional Array - Multiple Rows Multiple Columns</li></ul>\n",
    "\n",
    "<p>Note:- Python does not support Multi-Dimensional Array but we can create Multi-Dimensional Array using third-party packages like NumPy.</p>\n",
    "\n",
    "<h3>Class</h3>\n",
    "\n",
    "<p>A Python class is a group of attributes and methods.</p>\n",
    "\n",
    "<ul><li>Attributes<ul><li>Attributes are represented by a variable that contains data.</li></ul></li><li>Method<ul><li>The method performs an action or task, It is similar to function.</li></ul></li></ul>\n",
    "\n",
    "<h3>Module</h3>\n",
    "\n",
    "<p>A module is a file containing Python definitions and statements. A module is a file containing a group of variables, methods, functions, classes, etc. They are executed only the first time the module name is encountered in an import statement. The file name is the module name with the suffix .py appended.</p>\n",
    "\n",
    "<p>Types of modules:-</p>\n",
    "<ul><li>User-defined Modules</li><li>Built-in Modules<ul><li>eg:- array,math,NumPy,sys</li></ul></li></ul>"
   ]
  },
  {
   "cell_type": "code",
   "execution_count": null,
   "id": "54f79c2b",
   "metadata": {},
   "outputs": [],
   "source": []
  }
 ],
 "metadata": {
  "kernelspec": {
   "display_name": "Python 3 (ipykernel)",
   "language": "python",
   "name": "python3"
  },
  "language_info": {
   "codemirror_mode": {
    "name": "ipython",
    "version": 3
   },
   "file_extension": ".py",
   "mimetype": "text/x-python",
   "name": "python",
   "nbconvert_exporter": "python",
   "pygments_lexer": "ipython3",
   "version": "3.8.10"
  }
 },
 "nbformat": 4,
 "nbformat_minor": 5
}
