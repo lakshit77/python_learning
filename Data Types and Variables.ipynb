{
 "cells": [
  {
   "cell_type": "markdown",
   "id": "fcb01c91",
   "metadata": {},
   "source": [
    "Use below link for reference  <br>\n",
    "https://www.geeksforgeeks.org/python-variables/  <br>\n",
    "https://www.edureka.co/blog/variables-and-data-types-in-python/"
   ]
  },
  {
   "cell_type": "markdown",
   "id": "5087367c",
   "metadata": {},
   "source": [
    "## What are Variables in Python ?\n",
    "Variable are like box which hold the value within itself, so that wherever we want to use that value we can call the variable."
   ]
  },
  {
   "cell_type": "code",
   "execution_count": 4,
   "id": "c3c4c8cc",
   "metadata": {},
   "outputs": [
    {
     "name": "stdout",
     "output_type": "stream",
     "text": [
      "\n",
      "Here is a list of the Python keywords.  Enter any keyword to get more help.\n",
      "\n",
      "False               break               for                 not\n",
      "None                class               from                or\n",
      "True                continue            global              pass\n",
      "__peg_parser__      def                 if                  raise\n",
      "and                 del                 import              return\n",
      "as                  elif                in                  try\n",
      "assert              else                is                  while\n",
      "async               except              lambda              with\n",
      "await               finally             nonlocal            yield\n",
      "\n"
     ]
    }
   ],
   "source": [
    "help(\"keywords\")"
   ]
  },
  {
   "cell_type": "code",
   "execution_count": 2,
   "id": "81a8b23d",
   "metadata": {},
   "outputs": [
    {
     "name": "stdout",
     "output_type": "stream",
     "text": [
      "3.9.7\n"
     ]
    }
   ],
   "source": [
    "from platform import python_version\n",
    "\n",
    "print(python_version())"
   ]
  },
  {
   "cell_type": "markdown",
   "id": "c20c75a6",
   "metadata": {},
   "source": [
    "<img src=\"Techsunami.gif\" width=\"200\" align=\"left\">"
   ]
  },
  {
   "cell_type": "code",
   "execution_count": 26,
   "id": "3291cf4b",
   "metadata": {},
   "outputs": [],
   "source": [
    "x = \"techsunami\""
   ]
  },
  {
   "cell_type": "code",
   "execution_count": 27,
   "id": "45d1753b",
   "metadata": {},
   "outputs": [
    {
     "name": "stdout",
     "output_type": "stream",
     "text": [
      "techsunami\n"
     ]
    }
   ],
   "source": [
    "print(x)"
   ]
  },
  {
   "cell_type": "markdown",
   "id": "fab968f3",
   "metadata": {},
   "source": [
    "### Rules for creating variables in Python\n",
    "<ul>\n",
    "    <li>A variable name must start with a letter or the underscore ( _ ) character.</li>\n",
    "    <li>A variable name cannot start with a number.</li> \n",
    "    <li>A variable name can only contain alpha-numeric characters and underscores (A-z, 0-9, and _ ).</li>\n",
    "    <li>Variable names are case-sensitive (name, Name and NAME are three different variables).</li>\n",
    "    <li>\n",
    "The reserved words(keywords) cannot be used naming the variable.\n",
    "<pre>\n",
    "                    <b>Below is a list of the Python Researved keywords</b>\n",
    "    False               break               for                 not\n",
    "    None                class               from                or\n",
    "    True                continue            global              pass\n",
    "    __peg_parser__      def                 if                  raise\n",
    "    and                 del                 import              return\n",
    "    as                  elif                in                  try\n",
    "    assert              else                is                  while\n",
    "    async               except              lambda              with\n",
    "    await               finally             nonlocal            yield\n",
    "</pre>\n",
    "    </li>    \n",
    "</ul>\n"
   ]
  },
  {
   "cell_type": "code",
   "execution_count": 19,
   "id": "7c56a811",
   "metadata": {},
   "outputs": [
    {
     "ename": "SyntaxError",
     "evalue": "invalid syntax (1414066321.py, line 1)",
     "output_type": "error",
     "traceback": [
      "\u001b[0;36m  File \u001b[0;32m\"/var/folders/qj/fnsm3ljj1sv7zz8_1w0vg7p80000gn/T/ipykernel_1134/1414066321.py\"\u001b[0;36m, line \u001b[0;32m1\u001b[0m\n\u001b[0;31m    and = \"techlaunde\"\u001b[0m\n\u001b[0m    ^\u001b[0m\n\u001b[0;31mSyntaxError\u001b[0m\u001b[0;31m:\u001b[0m invalid syntax\n"
     ]
    }
   ],
   "source": [
    "and = \"techlaunde\""
   ]
  },
  {
   "cell_type": "code",
   "execution_count": 42,
   "id": "7a0990a4",
   "metadata": {},
   "outputs": [
    {
     "name": "stdout",
     "output_type": "stream",
     "text": [
      "Before declare:  100\n",
      "After re-declare: 120.3\n"
     ]
    }
   ],
   "source": [
    "# declaring the variable\n",
    "number = 100\n",
    "# display\n",
    "print(\"Before declare: \", number)\n",
    " \n",
    "# re-declare the variable\n",
    "number = 120.3\n",
    "print(\"After re-declare:\", number)"
   ]
  },
  {
   "cell_type": "markdown",
   "id": "1e0915ac",
   "metadata": {},
   "source": [
    "## Data Type in Python"
   ]
  },
  {
   "cell_type": "markdown",
   "id": "29ec54c5",
   "metadata": {},
   "source": [
    "<b>Variables</b> can store data of <b>different data types</b>, and different data types can do different things.<br>\n",
    "Python has the following data types built-in by default, in these categories:\n",
    "<pre>\n",
    "<b>Text Type</b>:\tstr\n",
    "<b>Numeric Types</b>:\tint, float, complex\n",
    "<b>Sequence Types</b>:\tlist, tuple, range\n",
    "<b>Mapping Type</b>:\tdict\n",
    "<b>Set Types</b>:\tset\n",
    "<b>Boolean Type</b>:\tbool\n",
    "<b>None Type</b>:\tNoneType\n",
    "</pre>\n",
    "\n",
    "In Python You <b>don't need to define</b> the data type it <b>automatic</b> understand the data type <br>\n",
    "If you want to <b>check</b> the type of variable use <b> type(variable_name) </b>\n"
   ]
  },
  {
   "cell_type": "markdown",
   "id": "6ad0db4d",
   "metadata": {},
   "source": [
    "#### Text Type"
   ]
  },
  {
   "cell_type": "code",
   "execution_count": 30,
   "id": "ccffa837",
   "metadata": {},
   "outputs": [
    {
     "name": "stdout",
     "output_type": "stream",
     "text": [
      "Variable Name -- techlaunde\n",
      "Type of variable -- <class 'str'>\n"
     ]
    }
   ],
   "source": [
    "x = \"techlaunde\"\n",
    "print(f\"Variable Name -- {x}\")\n",
    "print(f\"Type of variable -- {type(x)}\")"
   ]
  },
  {
   "cell_type": "markdown",
   "id": "509eab46",
   "metadata": {},
   "source": [
    "#### Numeric Type"
   ]
  },
  {
   "cell_type": "code",
   "execution_count": 31,
   "id": "e3a2d154",
   "metadata": {},
   "outputs": [
    {
     "name": "stdout",
     "output_type": "stream",
     "text": [
      "Variable Name -- 12\n",
      "Type of variable -- <class 'int'>\n"
     ]
    }
   ],
   "source": [
    "x = 12   # int\n",
    "print(f\"Variable Name -- {x}\")\n",
    "print(f\"Type of variable -- {type(x)}\")"
   ]
  },
  {
   "cell_type": "code",
   "execution_count": 32,
   "id": "1bbb010b",
   "metadata": {},
   "outputs": [
    {
     "name": "stdout",
     "output_type": "stream",
     "text": [
      "Variable Name -- 12.5\n",
      "Type of variable -- <class 'float'>\n"
     ]
    }
   ],
   "source": [
    "x = 12.5  # float\n",
    "print(f\"Variable Name -- {x}\")\n",
    "print(f\"Type of variable -- {type(x)}\")"
   ]
  },
  {
   "cell_type": "code",
   "execution_count": 33,
   "id": "9e948530",
   "metadata": {},
   "outputs": [
    {
     "name": "stdout",
     "output_type": "stream",
     "text": [
      "Variable Name -- 12j\n",
      "Type of variable -- <class 'complex'>\n"
     ]
    }
   ],
   "source": [
    "x = 12j  # complex\n",
    "print(f\"Variable Name -- {x}\")\n",
    "print(f\"Type of variable -- {type(x)}\")"
   ]
  },
  {
   "cell_type": "markdown",
   "id": "28f15da1",
   "metadata": {},
   "source": [
    "#### Sequence Types"
   ]
  },
  {
   "cell_type": "code",
   "execution_count": 34,
   "id": "b4a217e1",
   "metadata": {},
   "outputs": [
    {
     "name": "stdout",
     "output_type": "stream",
     "text": [
      "Variable Name -- [1, 2, 3, 4]\n",
      "Type of variable -- <class 'list'>\n"
     ]
    }
   ],
   "source": [
    "x = [1,2,3,4]   # list\n",
    "print(f\"Variable Name -- {x}\")\n",
    "print(f\"Type of variable -- {type(x)}\")"
   ]
  },
  {
   "cell_type": "code",
   "execution_count": 35,
   "id": "df61f9b6",
   "metadata": {},
   "outputs": [
    {
     "name": "stdout",
     "output_type": "stream",
     "text": [
      "Variable Name -- (1, 2, 3, 4)\n",
      "Type of variable -- <class 'tuple'>\n"
     ]
    }
   ],
   "source": [
    "x = (1,2,3,4)  # tuple\n",
    "print(f\"Variable Name -- {x}\")\n",
    "print(f\"Type of variable -- {type(x)}\")"
   ]
  },
  {
   "cell_type": "code",
   "execution_count": 36,
   "id": "2cb1f123",
   "metadata": {},
   "outputs": [
    {
     "name": "stdout",
     "output_type": "stream",
     "text": [
      "Variable Name -- range(0, 6)\n",
      "Type of variable -- <class 'range'>\n"
     ]
    }
   ],
   "source": [
    "x = range(6)   # range\n",
    "print(f\"Variable Name -- {x}\")\n",
    "print(f\"Type of variable -- {type(x)}\")"
   ]
  },
  {
   "cell_type": "markdown",
   "id": "6b9b4084",
   "metadata": {},
   "source": [
    "#### Mapping Type"
   ]
  },
  {
   "cell_type": "code",
   "execution_count": 37,
   "id": "b94f00a0",
   "metadata": {},
   "outputs": [
    {
     "name": "stdout",
     "output_type": "stream",
     "text": [
      "Variable Name -- {'name': 'techlaunde', 'age': 1}\n",
      "Type of variable -- <class 'dict'>\n"
     ]
    }
   ],
   "source": [
    "x = {\"name\" : \"techlaunde\", \"age\" : 1}  #dictionary\n",
    "print(f\"Variable Name -- {x}\")\n",
    "print(f\"Type of variable -- {type(x)}\")"
   ]
  },
  {
   "cell_type": "markdown",
   "id": "965c6f1b",
   "metadata": {},
   "source": [
    "#### Set Types"
   ]
  },
  {
   "cell_type": "code",
   "execution_count": 29,
   "id": "e9268eac",
   "metadata": {},
   "outputs": [
    {
     "name": "stdout",
     "output_type": "stream",
     "text": [
      "Variable Name -- {'one', 'two', 'three'}\n",
      "Type of variable -- <class 'set'>\n"
     ]
    }
   ],
   "source": [
    "x = {\"one\", \"two\", \"three\"}  #set\n",
    "print(f\"Variable Name -- {x}\")\n",
    "print(f\"Type of variable -- {type(x)}\")"
   ]
  },
  {
   "cell_type": "markdown",
   "id": "5d295fcc",
   "metadata": {},
   "source": [
    "#### Boolean Type"
   ]
  },
  {
   "cell_type": "code",
   "execution_count": 39,
   "id": "e43c5636",
   "metadata": {},
   "outputs": [
    {
     "name": "stdout",
     "output_type": "stream",
     "text": [
      "Variable Name -- False\n",
      "Type of variable -- <class 'bool'>\n"
     ]
    }
   ],
   "source": [
    "x = 5 < 4\n",
    "print(f\"Variable Name -- {x}\")\n",
    "print(f\"Type of variable -- {type(x)}\")"
   ]
  },
  {
   "cell_type": "markdown",
   "id": "6bc6eb4b",
   "metadata": {},
   "source": [
    "#### None Type"
   ]
  },
  {
   "cell_type": "code",
   "execution_count": 40,
   "id": "a06853ec",
   "metadata": {},
   "outputs": [
    {
     "name": "stdout",
     "output_type": "stream",
     "text": [
      "Variable Name -- None\n",
      "Type of variable -- <class 'NoneType'>\n"
     ]
    }
   ],
   "source": [
    "x = None\n",
    "print(f\"Variable Name -- {x}\")\n",
    "print(f\"Type of variable -- {type(x)}\")"
   ]
  },
  {
   "cell_type": "code",
   "execution_count": null,
   "id": "1368b41a",
   "metadata": {},
   "outputs": [],
   "source": []
  },
  {
   "cell_type": "markdown",
   "id": "0329ea2b",
   "metadata": {},
   "source": [
    "## Advance Learning"
   ]
  },
  {
   "cell_type": "code",
   "execution_count": 118,
   "id": "31b527df",
   "metadata": {},
   "outputs": [
    {
     "name": "stdout",
     "output_type": "stream",
     "text": [
      "Value of x is 3 and type is <class 'int'>\n",
      "Value of y is 3 and type is <class 'str'>\n"
     ]
    }
   ],
   "source": [
    "# int to str\n",
    "x = 3   \n",
    "print(f\"Value of x is {x} and type is {type(x)}\")\n",
    "\n",
    "y = str(x)\n",
    "print(f\"Value of y is {y} and type is {type(y)}\")"
   ]
  },
  {
   "cell_type": "code",
   "execution_count": 119,
   "id": "4864f70d",
   "metadata": {},
   "outputs": [
    {
     "name": "stdout",
     "output_type": "stream",
     "text": [
      "Value of x is 3 and type is <class 'str'>\n",
      "Value of y is 3 and type is <class 'int'>\n"
     ]
    }
   ],
   "source": [
    "# str to int\n",
    "x = \"3\"   \n",
    "print(f\"Value of x is {x} and type is {type(x)}\")\n",
    "\n",
    "y = int(x)\n",
    "print(f\"Value of y is {y} and type is {type(y)}\")"
   ]
  },
  {
   "cell_type": "code",
   "execution_count": 120,
   "id": "b441d35e",
   "metadata": {},
   "outputs": [
    {
     "name": "stdout",
     "output_type": "stream",
     "text": [
      "Value of x is 3.5 and type is <class 'str'>\n",
      "Value of y is 3.5 and type is <class 'float'>\n"
     ]
    }
   ],
   "source": [
    "# str to float\n",
    "x = \"3.5\"   \n",
    "print(f\"Value of x is {x} and type is {type(x)}\")\n",
    "\n",
    "y = float(x)\n",
    "print(f\"Value of y is {y} and type is {type(y)}\")"
   ]
  },
  {
   "cell_type": "code",
   "execution_count": 43,
   "id": "821c2549",
   "metadata": {},
   "outputs": [],
   "source": []
  },
  {
   "cell_type": "code",
   "execution_count": 46,
   "id": "bac633c5",
   "metadata": {},
   "outputs": [
    {
     "name": "stdout",
     "output_type": "stream",
     "text": [
      "one two three\n"
     ]
    }
   ],
   "source": [
    "# Many Values to Multiple Variables\n",
    "x, y, z = \"one\", \"two\", \"three\"\n",
    "print(x, y, z)"
   ]
  },
  {
   "cell_type": "code",
   "execution_count": 48,
   "id": "d8da8af6",
   "metadata": {},
   "outputs": [
    {
     "name": "stdout",
     "output_type": "stream",
     "text": [
      "techlaunde techlaunde techlaunde\n"
     ]
    }
   ],
   "source": [
    "# One Values to Multiple Variables\n",
    "x = y = z = \"techlaunde\"\n",
    "print(x, y, z)"
   ]
  },
  {
   "cell_type": "code",
   "execution_count": 49,
   "id": "5de77382",
   "metadata": {},
   "outputs": [
    {
     "name": "stdout",
     "output_type": "stream",
     "text": [
      "One\n",
      "Two\n",
      "Three\n"
     ]
    }
   ],
   "source": [
    "#Unpack the collections\n",
    "fruits = [\"One\", \"Two\", \"Three\"]\n",
    "x, y, z = fruits\n",
    "print(x)\n",
    "print(y)\n",
    "print(z)"
   ]
  },
  {
   "cell_type": "code",
   "execution_count": null,
   "id": "f4d95b32",
   "metadata": {},
   "outputs": [],
   "source": []
  },
  {
   "cell_type": "code",
   "execution_count": null,
   "id": "cefc4615",
   "metadata": {},
   "outputs": [],
   "source": []
  },
  {
   "cell_type": "code",
   "execution_count": null,
   "id": "4e2bd4ba",
   "metadata": {},
   "outputs": [],
   "source": []
  },
  {
   "cell_type": "code",
   "execution_count": null,
   "id": "7acad5eb",
   "metadata": {},
   "outputs": [],
   "source": []
  },
  {
   "cell_type": "markdown",
   "id": "39aa71b1",
   "metadata": {},
   "source": [
    "## FAQ's"
   ]
  },
  {
   "cell_type": "markdown",
   "id": "a097b84f",
   "metadata": {},
   "source": [
    "<h3>1. Can we use the same name for different types? </h3>\n",
    "<p>If we use the same name, the variable starts referring to a new value and type.</p>"
   ]
  },
  {
   "cell_type": "code",
   "execution_count": 51,
   "id": "991cf470",
   "metadata": {},
   "outputs": [
    {
     "name": "stdout",
     "output_type": "stream",
     "text": [
      "techlaunde\n"
     ]
    }
   ],
   "source": [
    "x = 10\n",
    "x = \"techlaunde\"\n",
    " \n",
    "print(x)"
   ]
  },
  {
   "cell_type": "markdown",
   "id": "5024f684",
   "metadata": {},
   "source": [
    "<h3>2. How does + operator work with variables? </h3>"
   ]
  },
  {
   "cell_type": "code",
   "execution_count": 52,
   "id": "84727418",
   "metadata": {},
   "outputs": [
    {
     "name": "stdout",
     "output_type": "stream",
     "text": [
      "30\n",
      "techlaunde\n"
     ]
    }
   ],
   "source": [
    "a = 10\n",
    "b = 20\n",
    "print(a+b)\n",
    " \n",
    "a = \"tech\"\n",
    "b = \"launde\"\n",
    "print(a+b)"
   ]
  },
  {
   "cell_type": "markdown",
   "id": "0ccbe0ce",
   "metadata": {},
   "source": [
    "<h3>3. Can we use + for different types also? </h3>"
   ]
  },
  {
   "cell_type": "code",
   "execution_count": 53,
   "id": "460d5929",
   "metadata": {},
   "outputs": [
    {
     "ename": "TypeError",
     "evalue": "unsupported operand type(s) for +: 'int' and 'str'",
     "output_type": "error",
     "traceback": [
      "\u001b[0;31m---------------------------------------------------------------------------\u001b[0m",
      "\u001b[0;31mTypeError\u001b[0m                                 Traceback (most recent call last)",
      "\u001b[0;32m/var/folders/qj/fnsm3ljj1sv7zz8_1w0vg7p80000gn/T/ipykernel_1134/2118902460.py\u001b[0m in \u001b[0;36m<module>\u001b[0;34m\u001b[0m\n\u001b[1;32m      1\u001b[0m \u001b[0ma\u001b[0m \u001b[0;34m=\u001b[0m \u001b[0;36m10\u001b[0m\u001b[0;34m\u001b[0m\u001b[0;34m\u001b[0m\u001b[0m\n\u001b[1;32m      2\u001b[0m \u001b[0mb\u001b[0m \u001b[0;34m=\u001b[0m \u001b[0;34m\"techlaunde\"\u001b[0m\u001b[0;34m\u001b[0m\u001b[0;34m\u001b[0m\u001b[0m\n\u001b[0;32m----> 3\u001b[0;31m \u001b[0mprint\u001b[0m\u001b[0;34m(\u001b[0m\u001b[0ma\u001b[0m\u001b[0;34m+\u001b[0m\u001b[0mb\u001b[0m\u001b[0;34m)\u001b[0m\u001b[0;34m\u001b[0m\u001b[0;34m\u001b[0m\u001b[0m\n\u001b[0m",
      "\u001b[0;31mTypeError\u001b[0m: unsupported operand type(s) for +: 'int' and 'str'"
     ]
    }
   ],
   "source": [
    "a = 10\n",
    "b = \"techlaunde\"\n",
    "print(a+b)"
   ]
  },
  {
   "cell_type": "code",
   "execution_count": null,
   "id": "5413c0d6",
   "metadata": {},
   "outputs": [],
   "source": []
  },
  {
   "cell_type": "code",
   "execution_count": null,
   "id": "02adbeff",
   "metadata": {},
   "outputs": [],
   "source": []
  },
  {
   "cell_type": "code",
   "execution_count": null,
   "id": "159bbc17",
   "metadata": {},
   "outputs": [],
   "source": []
  }
 ],
 "metadata": {
  "kernelspec": {
   "display_name": "Python 3 (ipykernel)",
   "language": "python",
   "name": "python3"
  },
  "language_info": {
   "codemirror_mode": {
    "name": "ipython",
    "version": 3
   },
   "file_extension": ".py",
   "mimetype": "text/x-python",
   "name": "python",
   "nbconvert_exporter": "python",
   "pygments_lexer": "ipython3",
   "version": "3.9.7"
  }
 },
 "nbformat": 4,
 "nbformat_minor": 5
}
