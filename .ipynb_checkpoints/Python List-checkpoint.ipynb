{
 "cells": [
  {
   "cell_type": "markdown",
   "id": "98f88920",
   "metadata": {},
   "source": [
    "## Python List"
   ]
  },
  {
   "cell_type": "markdown",
   "id": "011c6f3a",
   "metadata": {},
   "source": [
    "<p>1. A list reperesents a group of elements.</p>\n",
    "<p>2. Lists are very similar to array but there is major diffrence, an array can store only one type of elements where as a list can store diffrent type of elements.</p>\n",
    "<p>3. Lists are mutable so we can modify it's element.</p>\n",
    "\n",
    "<p>4. Lists are mutable so we can modfiy it's element.</p>\n",
    "<p>5. Lists are dynamic which means size is not fixed.</p>\n",
    "<p>6. Lists are reperesented using square bracket [ ].</p>"
   ]
  },
  {
   "cell_type": "code",
   "execution_count": 1,
   "id": "0c241aa2",
   "metadata": {},
   "outputs": [],
   "source": [
    "# Example :- \n",
    "a = [10,20,-50,21.3, \"TechSunami\"]"
   ]
  },
  {
   "cell_type": "markdown",
   "id": "0dbb5015",
   "metadata": {},
   "source": [
    "## Creating a List"
   ]
  },
  {
   "cell_type": "markdown",
   "id": "46a3a0a3",
   "metadata": {},
   "source": [
    "<p>A Lists is similar to an array that consists of a group of elements or items</p>\n",
    "<p>Syntax:- list_name = [element1, element2]</p>"
   ]
  },
  {
   "cell_type": "code",
   "execution_count": 2,
   "id": "879847ed",
   "metadata": {},
   "outputs": [],
   "source": [
    "#Example :-\n",
    "a = [10,20,-50,21.3, \"TechSunami\"]"
   ]
  },
  {
   "cell_type": "markdown",
   "id": "c4972d72",
   "metadata": {},
   "source": [
    "## Index"
   ]
  },
  {
   "cell_type": "markdown",
   "id": "6cae29ca",
   "metadata": {},
   "source": [
    "<p>An index represents the position number of an list's element. The index start from 0 on wards and written inside square braces</p>\n",
    "\n",
    "<table>\n",
    "   <tbody>\n",
    "     <tr>\n",
    "       <td>a[0]</td>\n",
    "       <td>10</td>\n",
    "     </tr>\n",
    "     <tr>\n",
    "       <td>a[1]</td>\n",
    "       <td>20</td>\n",
    "     </tr>\n",
    "     <tr>\n",
    "       <td>a[2]</td>\n",
    "       <td>-50</td>\n",
    "     </tr>\n",
    "     <tr>\n",
    "       <td>a[3]</td>\n",
    "       <td>21.3</td>\n",
    "     </tr>\n",
    "     <tr>\n",
    "       <td>a[4]</td>\n",
    "       <td>TechSunami</td>\n",
    "     </tr>\n",
    "  </tbody>\n",
    "</table>"
   ]
  },
  {
   "cell_type": "markdown",
   "id": "666a5123",
   "metadata": {},
   "source": [
    "<table>\n",
    "   <tbody>\n",
    "     <tr>\n",
    "       <td>a[-5]</td>\n",
    "       <td>10</td>\n",
    "     </tr>\n",
    "     <tr>\n",
    "       <td>a[-4]</td>\n",
    "       <td>20</td>\n",
    "     </tr>\n",
    "     <tr>\n",
    "       <td>a[-3]</td>\n",
    "       <td>-50</td>\n",
    "     </tr>\n",
    "     <tr>\n",
    "       <td>a[-2]</td>\n",
    "       <td>21.3</td>\n",
    "     </tr>\n",
    "     <tr>\n",
    "       <td>a[-1]</td>\n",
    "       <td>TechSunami</td>\n",
    "     </tr>\n",
    "  </tbody>\n",
    "</table>"
   ]
  },
  {
   "cell_type": "markdown",
   "id": "380ed22f",
   "metadata": {},
   "source": [
    "## Accessing List's Element"
   ]
  },
  {
   "cell_type": "code",
   "execution_count": 3,
   "id": "35e97827",
   "metadata": {},
   "outputs": [],
   "source": [
    "a = [10,20,-50,21.3, \"TechSunami\"]"
   ]
  },
  {
   "cell_type": "markdown",
   "id": "c48e1f1b",
   "metadata": {},
   "source": [
    "<table>\n",
    "   <tbody>\n",
    "     <tr>\n",
    "       <td>10</td>\n",
    "       <td>20</td>\n",
    "       <td>-50</td>\n",
    "       <td>21.3</td>\n",
    "       <td>TechSunami</td>\n",
    "      </tr>\n",
    "      <tr>\n",
    "       <td>a[0]</td>\n",
    "       <td>a[1]</td>\n",
    "       <td>a[2]</td>\n",
    "       <td>a[3]</td>\n",
    "       <td>a[4]</td>\n",
    "      </tr>\n",
    "  </tbody>\n",
    "</table>"
   ]
  },
  {
   "cell_type": "markdown",
   "id": "4a9b4665",
   "metadata": {},
   "source": [
    "## Modifying or Updating Element"
   ]
  },
  {
   "cell_type": "markdown",
   "id": "204f577f",
   "metadata": {},
   "source": [
    "<p>Lists are mutable so we can modify it's element.</p>"
   ]
  },
  {
   "cell_type": "code",
   "execution_count": 4,
   "id": "a3e69600",
   "metadata": {},
   "outputs": [],
   "source": [
    "a = [10,20,-50,21.3, \"TechSunami\"]\n",
    "a[1] = 40"
   ]
  },
  {
   "cell_type": "code",
   "execution_count": 5,
   "id": "4afaebb0",
   "metadata": {},
   "outputs": [
    {
     "name": "stdout",
     "output_type": "stream",
     "text": [
      "[10, 40, -50, 21.3, 'TechSunami']\n"
     ]
    }
   ],
   "source": [
    "print(a)"
   ]
  },
  {
   "cell_type": "markdown",
   "id": "7dc1cfb1",
   "metadata": {},
   "source": [
    "## Accessing List using For loop"
   ]
  },
  {
   "cell_type": "code",
   "execution_count": 6,
   "id": "869c772f",
   "metadata": {},
   "outputs": [
    {
     "name": "stdout",
     "output_type": "stream",
     "text": [
      "10\n",
      "20\n",
      "-50\n",
      "21.3\n",
      "TechSunami\n"
     ]
    }
   ],
   "source": [
    "# without index number\n",
    "\n",
    "a = [10,20,-50,21.3, \"TechSunami\"]\n",
    "for each_element in a:\n",
    "    print(each_element)"
   ]
  },
  {
   "cell_type": "code",
   "execution_count": 7,
   "id": "60e43cb7",
   "metadata": {},
   "outputs": [
    {
     "name": "stdout",
     "output_type": "stream",
     "text": [
      "0 10\n",
      "1 20\n",
      "2 -50\n",
      "3 21.3\n",
      "4 TechSunami\n"
     ]
    }
   ],
   "source": [
    "# with index number\n",
    "\n",
    "a = [10,20,-50,21.3, \"TechSunami\"]\n",
    "for each_element in range(len(a)):\n",
    "    print(each_element,a[each_element])"
   ]
  },
  {
   "cell_type": "markdown",
   "id": "78921c43",
   "metadata": {},
   "source": [
    "## Accessing List using While loop"
   ]
  },
  {
   "cell_type": "code",
   "execution_count": 8,
   "id": "b57cc98f",
   "metadata": {},
   "outputs": [
    {
     "name": "stdout",
     "output_type": "stream",
     "text": [
      "10\n",
      "20\n",
      "-50\n",
      "21.3\n",
      "TechSunami\n"
     ]
    }
   ],
   "source": [
    "# without index number\n",
    "\n",
    "a = [10,20,-50,21.3, \"TechSunami\"]\n",
    "i = 0\n",
    "while i < len(a):\n",
    "    print(a[i])\n",
    "    i+= 1"
   ]
  },
  {
   "cell_type": "code",
   "execution_count": 11,
   "id": "fdcff9ad",
   "metadata": {},
   "outputs": [
    {
     "name": "stdout",
     "output_type": "stream",
     "text": [
      "0 10\n",
      "1 20\n",
      "2 -50\n",
      "3 21.3\n",
      "4 TechSunami\n"
     ]
    }
   ],
   "source": [
    "# with index number\n",
    "\n",
    "a = [10,20,-50,21.3, \"TechSunami\"]\n",
    "i = 0\n",
    "while i < len(a):\n",
    "    print(i,a[i])\n",
    "    i+= 1"
   ]
  },
  {
   "cell_type": "markdown",
   "id": "d4318ce2",
   "metadata": {},
   "source": [
    "## List Method"
   ]
  },
  {
   "cell_type": "markdown",
   "id": "45173477",
   "metadata": {},
   "source": [
    "<p><code>append()</code> This method is used to add an element at the end of the existing list.</p>\n",
    "<p>Syntax:- list_name.append(new_element)</p>"
   ]
  },
  {
   "cell_type": "code",
   "execution_count": 13,
   "id": "875c77e7",
   "metadata": {},
   "outputs": [
    {
     "name": "stdout",
     "output_type": "stream",
     "text": [
      "[10, 20, -50, 21.3, 'TechSunami']\n",
      "[10, 20, -50, 21.3, 'TechSunami', 200]\n"
     ]
    }
   ],
   "source": [
    "# Example :-\n",
    "a = [10,20,-50,21.3, \"TechSunami\"]\n",
    "print(a) # before appending element\n",
    "a.append(200)\n",
    "print(a) # after appending element"
   ]
  },
  {
   "cell_type": "markdown",
   "id": "7fb5a5f1",
   "metadata": {},
   "source": [
    "<p><code>insert()</code> This method is used to insert an element in a partiular position of the existing list.</p>\n",
    "\n",
    "<p>Syntax:- list_name.insert(position_number,new_element)</p>"
   ]
  },
  {
   "cell_type": "code",
   "execution_count": 15,
   "id": "eaf747f2",
   "metadata": {},
   "outputs": [
    {
     "name": "stdout",
     "output_type": "stream",
     "text": [
      "[10, 20, -50, 21.3, 'TechSunami']\n",
      "[10, 20, -50, 'TechBrother', 21.3, 'TechSunami']\n"
     ]
    }
   ],
   "source": [
    "a = [10,20,-50,21.3, \"TechSunami\"]\n",
    "print(a) # before insert element\n",
    "a.insert(3,'TechBrother')\n",
    "print(a) # after insert element"
   ]
  },
  {
   "cell_type": "markdown",
   "id": "b29ff05c",
   "metadata": {},
   "source": [
    "<p><code>pop()</code> This method is used to remove last element from the existing list.</p>\n",
    "\n",
    "<p>Syntax:- list_name.pop()</p>"
   ]
  },
  {
   "cell_type": "code",
   "execution_count": 17,
   "id": "842c4150",
   "metadata": {},
   "outputs": [
    {
     "name": "stdout",
     "output_type": "stream",
     "text": [
      "[10, 20, -50, 21.3, 'TechSunami']\n",
      "[10, 20, -50, 21.3]\n"
     ]
    }
   ],
   "source": [
    "a = [10,20,-50,21.3, \"TechSunami\"]\n",
    "print(a) # before removing element\n",
    "a = [10,20,-50,21.3, \"TechSunami\"]\n",
    "a.pop()\n",
    "print(a) # after removing element"
   ]
  },
  {
   "cell_type": "markdown",
   "id": "c3607f06",
   "metadata": {},
   "source": [
    "<p><code>pop(n)</code> This method is used to remove an element specified by position number, from the existing list and returns removed element.</p>\n",
    "\n",
    "<p>Syntax:- list_name.pop(position_number)</p>"
   ]
  },
  {
   "cell_type": "code",
   "execution_count": 18,
   "id": "2e590e2c",
   "metadata": {},
   "outputs": [
    {
     "name": "stdout",
     "output_type": "stream",
     "text": [
      "[10, 20, -50, 21.3, 'TechSunami']\n",
      "[10, 20, -50, 'TechSunami']\n"
     ]
    }
   ],
   "source": [
    "a = [10,20,-50,21.3, \"TechSunami\"]\n",
    "print(a) # before removing element\n",
    "a.pop(3)\n",
    "print(a) # after removing element"
   ]
  },
  {
   "cell_type": "markdown",
   "id": "deeef4c3",
   "metadata": {},
   "source": [
    "<p><code>remove()</code> This method is used to remove first occurrence of given element from the existing list. if it doesn't found the element, shows valueError</p>\n",
    "\n",
    "<p>Syntax:- list_name.remove(element)</p>"
   ]
  },
  {
   "cell_type": "code",
   "execution_count": 20,
   "id": "1643fcef",
   "metadata": {},
   "outputs": [
    {
     "name": "stdout",
     "output_type": "stream",
     "text": [
      "[10, 20, 10, -50, 21.3, 'TechSunami']\n",
      "[20, 10, -50, 21.3, 'TechSunami']\n"
     ]
    }
   ],
   "source": [
    "a = [10,20,10,-50,21.3, \"TechSunami\"]\n",
    "print(a) # before removing element\n",
    "a.remove(10)\n",
    "print(a) # after removing element"
   ]
  },
  {
   "cell_type": "code",
   "execution_count": 21,
   "id": "94e42af6",
   "metadata": {},
   "outputs": [
    {
     "name": "stdout",
     "output_type": "stream",
     "text": [
      "[10, 20, 10, -50, 21.3, 'TechSunami']\n"
     ]
    },
    {
     "ename": "ValueError",
     "evalue": "list.remove(x): x not in list",
     "output_type": "error",
     "traceback": [
      "\u001b[0;31m---------------------------------------------------------------------------\u001b[0m",
      "\u001b[0;31mValueError\u001b[0m                                Traceback (most recent call last)",
      "Cell \u001b[0;32mIn[21], line 3\u001b[0m\n\u001b[1;32m      1\u001b[0m a \u001b[38;5;241m=\u001b[39m [\u001b[38;5;241m10\u001b[39m,\u001b[38;5;241m20\u001b[39m,\u001b[38;5;241m10\u001b[39m,\u001b[38;5;241m-\u001b[39m\u001b[38;5;241m50\u001b[39m,\u001b[38;5;241m21.3\u001b[39m, \u001b[38;5;124m\"\u001b[39m\u001b[38;5;124mTechSunami\u001b[39m\u001b[38;5;124m\"\u001b[39m]\n\u001b[1;32m      2\u001b[0m \u001b[38;5;28mprint\u001b[39m(a) \u001b[38;5;66;03m# before removing element\u001b[39;00m\n\u001b[0;32m----> 3\u001b[0m \u001b[43ma\u001b[49m\u001b[38;5;241;43m.\u001b[39;49m\u001b[43mremove\u001b[49m\u001b[43m(\u001b[49m\u001b[38;5;124;43m'\u001b[39;49m\u001b[38;5;124;43mcoders\u001b[39;49m\u001b[38;5;124;43m'\u001b[39;49m\u001b[43m)\u001b[49m\n",
      "\u001b[0;31mValueError\u001b[0m: list.remove(x): x not in list"
     ]
    }
   ],
   "source": [
    "a = [10,20,10,-50,21.3, \"TechSunami\"]\n",
    "print(a) # before removing element\n",
    "a.remove('coders')"
   ]
  },
  {
   "cell_type": "markdown",
   "id": "5867625f",
   "metadata": {},
   "source": [
    "<p><code>index()</code> This method returns position number of first occurrence of given element in the list. if doesn't found the element, shows valueError</p>\n",
    "\n",
    "<p>Syntax:- list_name.index(element)</p>"
   ]
  },
  {
   "cell_type": "code",
   "execution_count": 25,
   "id": "0b0d2a94",
   "metadata": {},
   "outputs": [
    {
     "data": {
      "text/plain": [
       "0"
      ]
     },
     "execution_count": 25,
     "metadata": {},
     "output_type": "execute_result"
    }
   ],
   "source": [
    "a = [10,20,10,-50,21.3, \"TechSunami\"]\n",
    "a.index(10)"
   ]
  },
  {
   "cell_type": "markdown",
   "id": "e2de8ca5",
   "metadata": {},
   "source": [
    "<p><code>reverse()</code> This method is used the order of elements in the list</p>\n",
    "\n",
    "<p>Syntax:- list_name.reverse()</p>"
   ]
  },
  {
   "cell_type": "code",
   "execution_count": 27,
   "id": "ffd606fa",
   "metadata": {},
   "outputs": [
    {
     "name": "stdout",
     "output_type": "stream",
     "text": [
      "[10, 20, 10, -50, 21.3, 'TechSunami']\n",
      "['TechSunami', 21.3, -50, 10, 20, 10]\n"
     ]
    }
   ],
   "source": [
    "a = [10,20,10,-50,21.3, \"TechSunami\"]\n",
    "print(a) # before reverse \n",
    "a.reverse()\n",
    "print(a) # after reverse"
   ]
  },
  {
   "cell_type": "markdown",
   "id": "1e1f6d9c",
   "metadata": {},
   "source": [
    "<p><code>extend()</code> This method is used to append another list or iterable objects at the end of the list.</p>\n",
    "\n",
    "<p>Syntax:- list_name.extend(created_list)</p>"
   ]
  },
  {
   "cell_type": "code",
   "execution_count": 29,
   "id": "9c31fe21",
   "metadata": {},
   "outputs": [
    {
     "name": "stdout",
     "output_type": "stream",
     "text": [
      "[10, 20, 10, -50, 21.3, 'TechSunami']\n",
      "[10, 20, 10, -50, 21.3, 'TechSunami', 100, 200, 300]\n"
     ]
    }
   ],
   "source": [
    "a = [10,20,10,-50,21.3, \"TechSunami\"]\n",
    "b = [100,200,300]\n",
    "print(a) # before extending\n",
    "a.extend(b)\n",
    "print(a) # after extending"
   ]
  },
  {
   "cell_type": "markdown",
   "id": "8c59c54d",
   "metadata": {},
   "source": [
    "<p><code>count()</code> This method returns number of occurence of a specified element in the list</p>\n",
    "\n",
    "<p>Syntax:- list_name.count(specified_element)</p>"
   ]
  },
  {
   "cell_type": "code",
   "execution_count": 31,
   "id": "00bcddbb",
   "metadata": {},
   "outputs": [
    {
     "name": "stdout",
     "output_type": "stream",
     "text": [
      "2\n"
     ]
    }
   ],
   "source": [
    "a = [10,20,10,-50,21.3, \"TechSunami\"]\n",
    "num = a.count(10)\n",
    "print(num)"
   ]
  },
  {
   "cell_type": "markdown",
   "id": "f2307fa2",
   "metadata": {},
   "source": [
    "<p><code>sort()</code> This method is used to sort the elements of the list into ascending order.</p>\n",
    "\n",
    "<p>Syntax:- list_name.sort()</p>"
   ]
  },
  {
   "cell_type": "code",
   "execution_count": 34,
   "id": "929cbbad",
   "metadata": {},
   "outputs": [
    {
     "name": "stdout",
     "output_type": "stream",
     "text": [
      "[10, 20, 10, -50, 21.3, 100]\n",
      "[-50, 10, 10, 20, 21.3, 100]\n"
     ]
    }
   ],
   "source": [
    "a = [10,20,10,-50,21.3, 100]\n",
    "print(a) # before sort \n",
    "a.sort()\n",
    "print(a) # after sort"
   ]
  },
  {
   "cell_type": "markdown",
   "id": "d4063120",
   "metadata": {},
   "source": [
    "<p><code>clear()</code> This method is used to delete all the elements from the list</p>\n",
    "\n",
    "<p>Syntax:- list_name.clear()</p>"
   ]
  },
  {
   "cell_type": "code",
   "execution_count": 35,
   "id": "14d77f37",
   "metadata": {},
   "outputs": [
    {
     "name": "stdout",
     "output_type": "stream",
     "text": [
      "[10, 20, 10, -50, 21.3, 'TechSunami']\n",
      "[]\n"
     ]
    }
   ],
   "source": [
    "a = [10,20,10,-50,21.3, \"TechSunami\"]\n",
    "print(a) # before deleting\n",
    "a.clear()\n",
    "print(a) # after deleting"
   ]
  },
  {
   "cell_type": "markdown",
   "id": "2f8ed34e",
   "metadata": {},
   "source": [
    "## Slicing on List"
   ]
  },
  {
   "cell_type": "markdown",
   "id": "d1e22b4e",
   "metadata": {},
   "source": [
    "<p>Slicing on list can be used to retrieve a piece of the list that contains a group of elements. Slicing is useful to retrieve a range of elements</p>\n",
    "<p>Syntax:- new_list = list_name[start:stop:stepsize]</p>"
   ]
  },
  {
   "cell_type": "code",
   "execution_count": 5,
   "id": "2349a690",
   "metadata": {},
   "outputs": [],
   "source": [
    "# Example:-\n",
    "\n",
    "a = [100,200,300,400,500,600]\n",
    "b = a[1:4]  # from 1st position to 4th position"
   ]
  },
  {
   "cell_type": "code",
   "execution_count": 4,
   "id": "b3cedfe7",
   "metadata": {},
   "outputs": [],
   "source": [
    "b = a[0:]  # from 0th position to last position"
   ]
  },
  {
   "cell_type": "code",
   "execution_count": 6,
   "id": "44ac1a4c",
   "metadata": {},
   "outputs": [],
   "source": [
    "b = a[0:4]  # from 0th position to 4th position"
   ]
  },
  {
   "cell_type": "code",
   "execution_count": 9,
   "id": "42554f05",
   "metadata": {},
   "outputs": [],
   "source": [
    "b = a[-4:] # last 4 elements"
   ]
  },
  {
   "cell_type": "code",
   "execution_count": 10,
   "id": "7f2f3a1f",
   "metadata": {},
   "outputs": [],
   "source": [
    "b = a[0:7:2] # from 0th position to 6th position"
   ]
  },
  {
   "cell_type": "code",
   "execution_count": 12,
   "id": "efffb780",
   "metadata": {},
   "outputs": [],
   "source": [
    "b = a[-5:-3] # last 5 element with [-5-(-3)] = 2 elements towards right"
   ]
  },
  {
   "cell_type": "markdown",
   "id": "9fca469a",
   "metadata": {},
   "source": [
    "## List Concatenation\n",
    "<p>+ operator is used to do concatenation the list.</p>"
   ]
  },
  {
   "cell_type": "code",
   "execution_count": 19,
   "id": "6dcc802a",
   "metadata": {},
   "outputs": [
    {
     "name": "stdout",
     "output_type": "stream",
     "text": [
      "[1, 2, 3, 4, 10, 20, 30, 40]\n"
     ]
    }
   ],
   "source": [
    "# Example\n",
    "a = [1,2,3,4]\n",
    "b = [10,20,30,40]\n",
    "print(a+b)"
   ]
  },
  {
   "cell_type": "markdown",
   "id": "ac4a8f1c",
   "metadata": {},
   "source": [
    "## Repetition of List\n",
    "<p>* operator is used to do concatenation the list.</p>"
   ]
  },
  {
   "cell_type": "code",
   "execution_count": 22,
   "id": "15fb2852",
   "metadata": {},
   "outputs": [
    {
     "name": "stdout",
     "output_type": "stream",
     "text": [
      "[10, 20, 30, 40, 10, 20, 30, 40, 10, 20, 30, 40]\n"
     ]
    }
   ],
   "source": [
    "b = [10,20,30,40]\n",
    "result = b * 3\n",
    "print(result)"
   ]
  },
  {
   "cell_type": "markdown",
   "id": "4b2541dc",
   "metadata": {},
   "source": [
    "## Aliasing List\n",
    "\n",
    "<p>Aliasing means giving another name to the existing object. It doesn't mean copying </p>"
   ]
  },
  {
   "cell_type": "code",
   "execution_count": 23,
   "id": "1fd7c7e8",
   "metadata": {},
   "outputs": [],
   "source": [
    "a = [1,2,3,4]\n",
    "b = a\n"
   ]
  },
  {
   "cell_type": "markdown",
   "id": "50125423",
   "metadata": {},
   "source": [
    "<p>Modification in a will affect b and vice versa.</p>"
   ]
  },
  {
   "cell_type": "code",
   "execution_count": 25,
   "id": "40228f1f",
   "metadata": {},
   "outputs": [],
   "source": [
    "# Example :-\n",
    "a = [1,2,3,4]\n",
    "b = a"
   ]
  },
  {
   "cell_type": "code",
   "execution_count": 27,
   "id": "a1de3ddb",
   "metadata": {},
   "outputs": [
    {
     "name": "stdout",
     "output_type": "stream",
     "text": [
      "[1, 20, 3, 4]\n",
      "[1, 20, 3, 4]\n"
     ]
    }
   ],
   "source": [
    "# After modifying\n",
    "a[1]= 20\n",
    "print(a)\n",
    "print(b)"
   ]
  },
  {
   "cell_type": "markdown",
   "id": "97dd23dd",
   "metadata": {},
   "source": [
    "## Copying List"
   ]
  },
  {
   "cell_type": "markdown",
   "id": "0696baa3",
   "metadata": {},
   "source": [
    "<p>1. <code>copy()</code> method is used to copy all the elements of a list to another list.</p>\n",
    "<p>2. When we copy a list a separate copy of all the elements is stored in another list. Both the list are independent.</p>"
   ]
  },
  {
   "cell_type": "code",
   "execution_count": 28,
   "id": "b2a0af89",
   "metadata": {},
   "outputs": [],
   "source": [
    "a = [1,2,3,4]\n",
    "b = a.copy()"
   ]
  },
  {
   "cell_type": "markdown",
   "id": "1d667d3d",
   "metadata": {},
   "source": [
    "<p>Modification in a will not affect b and vice versa.</p>"
   ]
  },
  {
   "cell_type": "code",
   "execution_count": 30,
   "id": "6adf4ada",
   "metadata": {},
   "outputs": [
    {
     "name": "stdout",
     "output_type": "stream",
     "text": [
      "[1, 20, 3, 4]\n",
      "[1, 2, 3, 4]\n"
     ]
    }
   ],
   "source": [
    "# After modifying\n",
    "a[1] = 20\n",
    "print(a)\n",
    "print(b)"
   ]
  },
  {
   "cell_type": "markdown",
   "id": "a180b34f",
   "metadata": {},
   "source": [
    "## Cloning List"
   ]
  },
  {
   "cell_type": "markdown",
   "id": "25725d84",
   "metadata": {},
   "source": [
    "<p>1. We can clone a list into another list using slicing</p>\n",
    "<p>2. When we clone a list a separate copy of all the elements is sorted in another list. Both the list are independent.</p>"
   ]
  },
  {
   "cell_type": "code",
   "execution_count": 31,
   "id": "8856f5f2",
   "metadata": {},
   "outputs": [],
   "source": [
    "a = [1,2,3,4]\n",
    "b = a[:]"
   ]
  },
  {
   "cell_type": "markdown",
   "id": "4e10f456",
   "metadata": {},
   "source": [
    "<p>Modification in a will not affect b and vice versa</p>"
   ]
  },
  {
   "cell_type": "code",
   "execution_count": 32,
   "id": "25657b00",
   "metadata": {},
   "outputs": [
    {
     "name": "stdout",
     "output_type": "stream",
     "text": [
      "[1, 20, 3, 4]\n",
      "[1, 2, 3, 4]\n"
     ]
    }
   ],
   "source": [
    "# After modifying\n",
    "a[1] = 20\n",
    "print(a)\n",
    "print(b)"
   ]
  },
  {
   "cell_type": "markdown",
   "id": "dc544084",
   "metadata": {},
   "source": [
    "## Nested List\n",
    "\n",
    "<p>A list within list is called as nested list or nesting of a list.</p>"
   ]
  },
  {
   "cell_type": "code",
   "execution_count": 1,
   "id": "8838afbe",
   "metadata": {},
   "outputs": [],
   "source": [
    "# Example:- \n",
    "a = [10,20,30,[100,200]]\n",
    "b = [[10,20,30],[100,200,300]]"
   ]
  },
  {
   "cell_type": "markdown",
   "id": "bb138313",
   "metadata": {},
   "source": [
    "### Index"
   ]
  },
  {
   "cell_type": "code",
   "execution_count": 3,
   "id": "c7470efb",
   "metadata": {},
   "outputs": [
    {
     "name": "stdout",
     "output_type": "stream",
     "text": [
      "10\n",
      "20\n",
      "30\n",
      "100\n",
      "200\n"
     ]
    }
   ],
   "source": [
    "a = [10,20,30,[100,200]]\n",
    "print(a[0])\n",
    "print(a[1])\n",
    "print(a[2])\n",
    "print(a[3][0])\n",
    "print(a[3][1])"
   ]
  },
  {
   "cell_type": "markdown",
   "id": "1e4d9da5",
   "metadata": {},
   "source": [
    "### Modifying Nested List"
   ]
  },
  {
   "cell_type": "code",
   "execution_count": 5,
   "id": "48593952",
   "metadata": {},
   "outputs": [
    {
     "name": "stdout",
     "output_type": "stream",
     "text": [
      "a:[10, 50, 30, [300, 200]]\n"
     ]
    }
   ],
   "source": [
    "a = [10,20,30,[100,200]]\n",
    "a[1] = 50\n",
    "a[3][0] = 300\n",
    "print(f\"a:{a}\")"
   ]
  },
  {
   "cell_type": "markdown",
   "id": "53ae79e2",
   "metadata": {},
   "source": [
    "## List () function \n",
    "\n",
    "<p>This is used to create a list. It return a mutable list of elements.</p>"
   ]
  },
  {
   "cell_type": "markdown",
   "id": "a02c865f",
   "metadata": {},
   "source": [
    "<p>Syntax:- list()</p>\n",
    "\n",
    "list(iterable_object)"
   ]
  },
  {
   "cell_type": "code",
   "execution_count": 7,
   "id": "1402ae34",
   "metadata": {},
   "outputs": [
    {
     "data": {
      "text/plain": [
       "['T', 'e', 'c', 'h', 'S', 'u', 'n', 'a', 'm', 'i']"
      ]
     },
     "execution_count": 7,
     "metadata": {},
     "output_type": "execute_result"
    }
   ],
   "source": [
    "# Example:-\n",
    "list(\"TechSunami\")"
   ]
  },
  {
   "cell_type": "markdown",
   "id": "376ff6c5",
   "metadata": {},
   "source": [
    "<p>We can use list and range function to create a list.</p>\n",
    "<p>Syntax:- list(range(start,stop,stepsize))</p>"
   ]
  },
  {
   "cell_type": "code",
   "execution_count": 10,
   "id": "5e6e7f18",
   "metadata": {},
   "outputs": [
    {
     "data": {
      "text/plain": [
       "[0, 1, 2, 3, 4]"
      ]
     },
     "execution_count": 10,
     "metadata": {},
     "output_type": "execute_result"
    }
   ],
   "source": [
    "# Example:-\n",
    "list(range(0,5))"
   ]
  },
  {
   "cell_type": "code",
   "execution_count": 11,
   "id": "d750f2f0",
   "metadata": {},
   "outputs": [
    {
     "data": {
      "text/plain": [
       "[0, 2, 4]"
      ]
     },
     "execution_count": 11,
     "metadata": {},
     "output_type": "execute_result"
    }
   ],
   "source": [
    "list(range(0,5,2))"
   ]
  },
  {
   "cell_type": "code",
   "execution_count": null,
   "id": "ebdfcd69",
   "metadata": {},
   "outputs": [],
   "source": []
  }
 ],
 "metadata": {
  "kernelspec": {
   "display_name": "Python 3 (ipykernel)",
   "language": "python",
   "name": "python3"
  },
  "language_info": {
   "codemirror_mode": {
    "name": "ipython",
    "version": 3
   },
   "file_extension": ".py",
   "mimetype": "text/x-python",
   "name": "python",
   "nbconvert_exporter": "python",
   "pygments_lexer": "ipython3",
   "version": "3.8.10"
  }
 },
 "nbformat": 4,
 "nbformat_minor": 5
}
