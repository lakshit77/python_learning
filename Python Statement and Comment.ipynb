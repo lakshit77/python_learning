{
 "cells": [
  {
   "cell_type": "markdown",
   "id": "a187ea60",
   "metadata": {},
   "source": [
    "# Python Statement"
   ]
  },
  {
   "cell_type": "markdown",
   "id": "7bf9f72c",
   "metadata": {},
   "source": [
    "<p>1. A statement is an instruction that the Python interpreter can execute. We have seen two kinds of statements: print and assignment.</p>\n",
    "\n",
    "<p>2. When you type a statement on the command line, Python executes it and displays the result, if there is one. The result of a print statement is a value. Assignment statements don't produce a result.</p>\n",
    "\n",
    "<p>3. A script usually contains a sequence of statements. If there is more than one statement, the results appear one at a time as the statements execute.</p>\n",
    "\n",
    "For example, the script"
   ]
  },
  {
   "cell_type": "code",
   "execution_count": 2,
   "id": "a1bd8257",
   "metadata": {},
   "outputs": [
    {
     "name": "stdout",
     "output_type": "stream",
     "text": [
      "1\n",
      "2\n"
     ]
    }
   ],
   "source": [
    "print(1)\n",
    "x=2\n",
    "print(x)"
   ]
  },
  {
   "cell_type": "markdown",
   "id": "a0557e22",
   "metadata": {},
   "source": [
    "<p>Again, the assignment statement produces no output.</p>"
   ]
  },
  {
   "cell_type": "markdown",
   "id": "6f3a2739",
   "metadata": {},
   "source": [
    "# Evaluating expressions"
   ]
  },
  {
   "cell_type": "markdown",
   "id": "329f6d12",
   "metadata": {},
   "source": [
    "<p>An expression is a combination of values, variables, and operators. If you type an expression on the command line, the interpreter evaluates it and displays the result:</p>"
   ]
  },
  {
   "cell_type": "code",
   "execution_count": 3,
   "id": "c23ce553",
   "metadata": {},
   "outputs": [
    {
     "data": {
      "text/plain": [
       "2"
      ]
     },
     "execution_count": 3,
     "metadata": {},
     "output_type": "execute_result"
    }
   ],
   "source": [
    "1 + 1"
   ]
  },
  {
   "cell_type": "markdown",
   "id": "2d6a5c14",
   "metadata": {},
   "source": [
    "<p>Confusingly, evaluating an expression is not quite the same thing as printing a value.</p>"
   ]
  },
  {
   "cell_type": "code",
   "execution_count": 4,
   "id": "a3a34378",
   "metadata": {},
   "outputs": [
    {
     "data": {
      "text/plain": [
       "'Hello World!'"
      ]
     },
     "execution_count": 4,
     "metadata": {},
     "output_type": "execute_result"
    }
   ],
   "source": [
    "message = \"Hello World!\"\n",
    "message"
   ]
  },
  {
   "cell_type": "code",
   "execution_count": 5,
   "id": "96a6861a",
   "metadata": {},
   "outputs": [
    {
     "name": "stdout",
     "output_type": "stream",
     "text": [
      "Hello World!\n"
     ]
    }
   ],
   "source": [
    "print(message)"
   ]
  },
  {
   "cell_type": "markdown",
   "id": "be3457e5",
   "metadata": {},
   "source": [
    "<p>When the Python interpreter displays the value of an expression, it uses the same format you would use to enter a value. In the case of strings, that means that it includes the quotation marks. But if you use a print statement, Python displays the contents of the string without the quotation marks.</p>"
   ]
  },
  {
   "cell_type": "markdown",
   "id": "61e6c53e",
   "metadata": {},
   "source": [
    "# Comments"
   ]
  },
  {
   "cell_type": "markdown",
   "id": "61223b9a",
   "metadata": {},
   "source": [
    "<p>1. As programs get bigger and more complicated, they get more difficult to read. Formal languages are dense, and it is often difficult to look at a piece of code and figure out what it is doing, or why.</p>"
   ]
  },
  {
   "cell_type": "markdown",
   "id": "1d00834d",
   "metadata": {},
   "source": [
    "<p>2. For this reason, it is a good idea to add notes to your programs to explain in natural language what the program is doing. These notes are called <strong>comments</strong>, and they are marked with the <code>#</code> symbol:</p>"
   ]
  },
  {
   "cell_type": "code",
   "execution_count": 9,
   "id": "468906bf",
   "metadata": {},
   "outputs": [
    {
     "name": "stdout",
     "output_type": "stream",
     "text": [
      "100.0\n"
     ]
    }
   ],
   "source": [
    "# compute the percentage of the hour that has elapsed\n",
    "percentage = (60 * 100) / 60\n",
    "print(percentage)"
   ]
  },
  {
   "cell_type": "markdown",
   "id": "6e30999d",
   "metadata": {},
   "source": [
    "<p>In this case, the comment appears on a line by itself. You can also put comments at the end of a line:</p>"
   ]
  },
  {
   "cell_type": "code",
   "execution_count": 11,
   "id": "d96e13ca",
   "metadata": {},
   "outputs": [
    {
     "name": "stdout",
     "output_type": "stream",
     "text": [
      "100.0\n"
     ]
    }
   ],
   "source": [
    "percentage = (60 * 100) / 60     # caution: integer division\n",
    "print(percentage)"
   ]
  },
  {
   "cell_type": "markdown",
   "id": "4b316a61",
   "metadata": {},
   "source": [
    "<p>Everything from the <code>#</code> to the end of the line is ignored, it has no effect on the program. The message is intended for the programmer or for future programmers who might use this code. In this case, it reminds the reader about the ever-surprising behavior of integer division.</p>"
   ]
  },
  {
   "cell_type": "markdown",
   "id": "b9176e15",
   "metadata": {},
   "source": [
    "<p>This sort of comment is less necessary if you use the integer division operation, <code>//</code>. It has the same effect as the division operator * Note, but it signals that the effect is deliberate.</p>"
   ]
  },
  {
   "cell_type": "code",
   "execution_count": 12,
   "id": "2c6403a0",
   "metadata": {},
   "outputs": [],
   "source": [
    "percentage = (60 * 100) // 60"
   ]
  },
  {
   "cell_type": "markdown",
   "id": "6e8a5f6a",
   "metadata": {},
   "source": [
    "<p>The integer division operator is like a comment that says, \"I know this is integer division, and I like it that way!\"</p>"
   ]
  },
  {
   "cell_type": "code",
   "execution_count": null,
   "id": "d5561277",
   "metadata": {},
   "outputs": [],
   "source": []
  }
 ],
 "metadata": {
  "kernelspec": {
   "display_name": "Python 3 (ipykernel)",
   "language": "python",
   "name": "python3"
  },
  "language_info": {
   "codemirror_mode": {
    "name": "ipython",
    "version": 3
   },
   "file_extension": ".py",
   "mimetype": "text/x-python",
   "name": "python",
   "nbconvert_exporter": "python",
   "pygments_lexer": "ipython3",
   "version": "3.8.10"
  }
 },
 "nbformat": 4,
 "nbformat_minor": 5
}
