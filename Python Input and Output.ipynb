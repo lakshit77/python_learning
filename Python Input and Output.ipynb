{
 "cells": [
  {
   "cell_type": "markdown",
   "metadata": {},
   "source": [
    "## Basic Input and Output in Python\n",
    "\n",
    "<h2>Input Function<h2>"
   ]
  },
  {
   "cell_type": "markdown",
   "metadata": {},
   "source": [
    "<code>Input() :-</code> <span>This function is used to accept input from the user. This function will stop the program flow until the user gives an input and end the input with the return key.</span>\n",
    "<p>Whatever user giveas input, input function <strong>input()</strong> convert into a string. If user enters an integer value still <code>input()</code> function convert it into a string.</p>\n",
    "\n",
    "\n",
    "<strong>Syntax</strong>:- input([prompt])\n",
    "<p>prompt is a string or message, representing a default message before input. It is optional</p>"
   ]
  },
  {
   "cell_type": "code",
   "execution_count": 1,
   "metadata": {},
   "outputs": [
    {
     "name": "stdout",
     "output_type": "stream",
     "text": [
      "\n",
      "Enter your name:\n"
     ]
    }
   ],
   "source": [
    "name = input()\n",
    "\n",
    "name= input(\"Enter your name:\")\n"
   ]
  },
  {
   "cell_type": "markdown",
   "metadata": {},
   "source": [
    "<p>Whatever user give as input, input function <code>input()</code> convert it into a string. If user enters an integer value still <code>input()</code> function convert into a string.</p>\n",
    "<p>So if you need an integer you have to use type conversion.</p>\n"
   ]
  },
  {
   "cell_type": "code",
   "execution_count": null,
   "metadata": {},
   "outputs": [],
   "source": [
    "mobile = input(\"Enter your mobile number: \")\n",
    "print(\"mobile type: \",type(mobile))  \n",
    "\n",
    "# convert string into integer\n",
    "\n",
    "mob = int(mobile)\n",
    "print('After converting mob type:',type(mob))"
   ]
  },
  {
   "cell_type": "code",
   "execution_count": null,
   "metadata": {},
   "outputs": [],
   "source": [
    "price = float(input(\"Total price: \"))"
   ]
  },
  {
   "cell_type": "markdown",
   "metadata": {},
   "source": [
    "<h2>Output Function</h2>"
   ]
  },
  {
   "cell_type": "markdown",
   "metadata": {},
   "source": [
    "<code>Print() Function :- </code>\n",
    "<p>The <code>print()</code> function is used to print the specified message to the output screen / device. The message can be string, or any other object</p>"
   ]
  },
  {
   "cell_type": "markdown",
   "metadata": {},
   "source": [
    "<strong>Syntax</strong>:- <code>print(object,sep=\"character\",end=\"character\", file=sys.stdout, flush=False)</code>"
   ]
  },
  {
   "cell_type": "markdown",
   "metadata": {},
   "source": [
    "<h3>Parameters: </h3>\n",
    "\n",
    "<ol>\n",
    "    <li><strong>sep</strong>:-<span> Seperate object by given character. Character can be any string, Default is '' or can be write none.</span></li>\n",
    "    <li><strong>end</strong>:-<span> It indicates ending character for the line. Default is \"\\n\" or can be write none.</span></li>\n",
    "    <li><strong>file</strong>:-<span> An object with a write method. Default is sys.stdout or can be write noen.</span></li>\n",
    "    <li><strong>flush</strong>:-<span> A Boolean, specifying if the output is flushed (True) or buffered (False). Default is False</span></li>\n",
    "\n",
    "</ol>"
   ]
  },
  {
   "cell_type": "markdown",
   "metadata": {},
   "source": [
    "<code>print()</code> :- This function is used to display a blank line."
   ]
  },
  {
   "cell_type": "markdown",
   "metadata": {},
   "source": [
    "<code>print(\"string\")</code>:- When a string is passed to the function, the string is displayed ad it is."
   ]
  },
  {
   "cell_type": "code",
   "execution_count": 10,
   "metadata": {},
   "outputs": [
    {
     "name": "stdout",
     "output_type": "stream",
     "text": [
      "Welcome to TechSunami\n"
     ]
    }
   ],
   "source": [
    "# Ex:- \n",
    "print(\"Welcome to TechSunami\")"
   ]
  },
  {
   "cell_type": "markdown",
   "metadata": {},
   "source": [
    "<code>print(object)</code> -<span> We can pass objects like list,tuples and dictinoaries to display the element of these objects.</span>"
   ]
  },
  {
   "cell_type": "code",
   "execution_count": 15,
   "metadata": {},
   "outputs": [
    {
     "name": "stdout",
     "output_type": "stream",
     "text": [
      "data:[10, 20, -50, 21.3, 'Geekyhows']\n"
     ]
    }
   ],
   "source": [
    "# Ex:- \n",
    "data = [10,20,-50,21.3,\"Geekyhows\"]\n",
    "\n",
    "print(f\"data:{data}\")"
   ]
  },
  {
   "cell_type": "markdown",
   "metadata": {},
   "source": [
    "### sep"
   ]
  },
  {
   "cell_type": "markdown",
   "metadata": {},
   "source": [
    "<code>print(\"string\",sep=\"\")</code> :- <span>It seperates string with given sep character. Character can be any string. Default is \" \" or can write none.</span>"
   ]
  },
  {
   "cell_type": "code",
   "execution_count": 25,
   "metadata": {},
   "outputs": [
    {
     "name": "stdout",
     "output_type": "stream",
     "text": [
      "Like Share Subscribe\n",
      "Like***Share***Subscribe\n",
      "10:20\n"
     ]
    }
   ],
   "source": [
    "# Ex:-\n",
    "\n",
    "# seperated by space\n",
    "print(\"Like\",\"Share\",\"Subscribe\",sep=\" \")\n",
    "\n",
    "# seperated by *\n",
    "print(\"Like\",\"Share\",\"Subscribe\",sep=\"***\")\n",
    "\n",
    "x = 10\n",
    "y = 20\n",
    "print(x,y, sep=\":\")"
   ]
  },
  {
   "cell_type": "markdown",
   "metadata": {},
   "source": [
    "### end"
   ]
  },
  {
   "cell_type": "markdown",
   "metadata": {},
   "source": [
    "<code>print(\"string\",end=\"\")</code> :- <span>When ending character is passed. It prints given character at the e e d. Default is \"\\n\" or can write none.</span>"
   ]
  },
  {
   "cell_type": "code",
   "execution_count": 22,
   "metadata": {},
   "outputs": [
    {
     "name": "stdout",
     "output_type": "stream",
     "text": [
      "Welcome\n",
      "to\n",
      "TechSunmai\n"
     ]
    }
   ],
   "source": [
    "# Ex:-\n",
    "print(\"Welcome\",end=\"\\n\")\n",
    "print(\"to\",end=\"\\n\")\n",
    "print(\"TechSunmai\",end=\"\\n\")"
   ]
  },
  {
   "cell_type": "markdown",
   "metadata": {},
   "source": [
    "<code>print(variable list)</code>:- <span>This is used to display the value of a variableor a list of variable</span>"
   ]
  },
  {
   "cell_type": "code",
   "execution_count": 23,
   "metadata": {},
   "outputs": [
    {
     "name": "stdout",
     "output_type": "stream",
     "text": [
      "TechSunami\n"
     ]
    }
   ],
   "source": [
    "name = \"TechSunami\"\n",
    "print(f\"{name}\")"
   ]
  },
  {
   "cell_type": "markdown",
   "metadata": {},
   "source": [
    "<code>print(\"String\", varibale list)</code> :- <span>This is used to display the string along with variable.</span>"
   ]
  },
  {
   "cell_type": "code",
   "execution_count": 26,
   "metadata": {},
   "outputs": [
    {
     "name": "stdout",
     "output_type": "stream",
     "text": [
      "Welcome to TechSunmai\n"
     ]
    }
   ],
   "source": [
    "name = \"TechSunmai\"\n",
    "print(f\"Welcome to {name}\")"
   ]
  },
  {
   "cell_type": "code",
   "execution_count": null,
   "metadata": {},
   "outputs": [],
   "source": []
  }
 ],
 "metadata": {
  "kernelspec": {
   "display_name": "Python 3 (ipykernel)",
   "language": "python",
   "name": "python3"
  },
  "language_info": {
   "codemirror_mode": {
    "name": "ipython",
    "version": 3
   },
   "file_extension": ".py",
   "mimetype": "text/x-python",
   "name": "python",
   "nbconvert_exporter": "python",
   "pygments_lexer": "ipython3",
   "version": "3.9.7"
  }
 },
 "nbformat": 4,
 "nbformat_minor": 4
}
